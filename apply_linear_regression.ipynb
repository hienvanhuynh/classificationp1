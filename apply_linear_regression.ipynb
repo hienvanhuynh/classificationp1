{
  "nbformat": 4,
  "nbformat_minor": 0,
  "metadata": {
    "colab": {
      "name": "apply_linear_regression.ipynb",
      "provenance": [],
      "collapsed_sections": [],
      "authorship_tag": "ABX9TyNd9CSx06QXnbEy4QtPCH4H",
      "include_colab_link": true
    },
    "kernelspec": {
      "name": "python3",
      "display_name": "Python 3"
    }
  },
  "cells": [
    {
      "cell_type": "markdown",
      "metadata": {
        "id": "view-in-github",
        "colab_type": "text"
      },
      "source": [
        "<a href=\"https://colab.research.google.com/github/hvhq/classificationp1/blob/master/apply_linear_regression.ipynb\" target=\"_parent\"><img src=\"https://colab.research.google.com/assets/colab-badge.svg\" alt=\"Open In Colab\"/></a>"
      ]
    },
    {
      "cell_type": "code",
      "metadata": {
        "id": "dcJ7mRQdXpKu"
      },
      "source": [
        "from google.colab import drive\n",
        "import os.path\n",
        "if not os.path.exists('gdrive'):\n",
        "  drive.mount('gdrive')"
      ],
      "execution_count": 1,
      "outputs": []
    },
    {
      "cell_type": "code",
      "metadata": {
        "id": "Fd4HZstoR47u"
      },
      "source": [
        "import pandas as pd\n",
        "from google.colab import files\n",
        "import sklearn\n",
        "from sklearn import preprocessing\n",
        "import numpy as np\n",
        "import math\n",
        "from sklearn.metrics import mean_squared_error\n",
        "import json"
      ],
      "execution_count": 2,
      "outputs": []
    },
    {
      "cell_type": "code",
      "metadata": {
        "id": "0j0LOrDhR_5G",
        "outputId": "4bbaf0bd-8983-4e1b-bb92-f1d3860ad20f",
        "colab": {
          "base_uri": "https://localhost:8080/",
          "height": 258
        }
      },
      "source": [
        "!pip install ipython-autotime\n",
        "%load_ext autotime\n",
        "!pip install kaggle\n",
        "!mkdir -p /root/.kaggle\n",
        "\n",
        "#upload kaggle token file: kaggle.json\n",
        "#files.upload()\n",
        "kaggletoken={\"username\":\"huynhvanhien\",\"key\":\"82d7e5f0d5f149aedf8f040ba7c74c2a\"}\n",
        "with open('/root/.kaggle/kaggle.json', 'w')as kaggletokenfile:\n",
        "  json.dump(kaggletoken, kaggletokenfile)\n",
        "#move to /.kaggle\n",
        "\n",
        "#!cp kaggle.json /root/.kaggle/\n",
        "!chmod 600 /.kaggle/kaggle.json"
      ],
      "execution_count": 3,
      "outputs": [
        {
          "output_type": "stream",
          "text": [
            "Requirement already satisfied: ipython-autotime in /usr/local/lib/python3.6/dist-packages (0.1)\n",
            "Requirement already satisfied: kaggle in /usr/local/lib/python3.6/dist-packages (1.5.8)\n",
            "Requirement already satisfied: six>=1.10 in /usr/local/lib/python3.6/dist-packages (from kaggle) (1.15.0)\n",
            "Requirement already satisfied: slugify in /usr/local/lib/python3.6/dist-packages (from kaggle) (0.0.1)\n",
            "Requirement already satisfied: python-slugify in /usr/local/lib/python3.6/dist-packages (from kaggle) (4.0.1)\n",
            "Requirement already satisfied: urllib3<1.25,>=1.21.1 in /usr/local/lib/python3.6/dist-packages (from kaggle) (1.24.3)\n",
            "Requirement already satisfied: tqdm in /usr/local/lib/python3.6/dist-packages (from kaggle) (4.41.1)\n",
            "Requirement already satisfied: requests in /usr/local/lib/python3.6/dist-packages (from kaggle) (2.23.0)\n",
            "Requirement already satisfied: python-dateutil in /usr/local/lib/python3.6/dist-packages (from kaggle) (2.8.1)\n",
            "Requirement already satisfied: certifi in /usr/local/lib/python3.6/dist-packages (from kaggle) (2020.6.20)\n",
            "Requirement already satisfied: text-unidecode>=1.3 in /usr/local/lib/python3.6/dist-packages (from python-slugify->kaggle) (1.3)\n",
            "Requirement already satisfied: chardet<4,>=3.0.2 in /usr/local/lib/python3.6/dist-packages (from requests->kaggle) (3.0.4)\n",
            "Requirement already satisfied: idna<3,>=2.5 in /usr/local/lib/python3.6/dist-packages (from requests->kaggle) (2.10)\n"
          ],
          "name": "stdout"
        }
      ]
    },
    {
      "cell_type": "code",
      "metadata": {
        "id": "SVPT0DkGslov",
        "outputId": "737de163-dcd3-4a85-d1fe-9d724b126b54",
        "colab": {
          "base_uri": "https://localhost:8080/",
          "height": 122
        }
      },
      "source": [
        "!kaggle datasets download -d nehalbirla/vehicle-dataset-from-cardekho"
      ],
      "execution_count": 4,
      "outputs": [
        {
          "output_type": "stream",
          "text": [
            "Warning: Your Kaggle API key is readable by other users on this system! To fix this, you can run 'chmod 600 /root/.kaggle/kaggle.json'\n",
            "Downloading vehicle-dataset-from-cardekho.zip to /content\n",
            "  0% 0.00/59.6k [00:00<?, ?B/s]\n",
            "100% 59.6k/59.6k [00:00<00:00, 21.5MB/s]\n",
            "time: 720 ms\n"
          ],
          "name": "stdout"
        }
      ]
    },
    {
      "cell_type": "code",
      "metadata": {
        "id": "ALCyaw5pSA93",
        "outputId": "41f0e33d-1b14-40df-b693-1171489d7f32",
        "colab": {
          "base_uri": "https://localhost:8080/",
          "height": 34
        }
      },
      "source": [
        "import zipfile\n",
        "zipreference=zipfile.ZipFile('vehicle-dataset-from-cardekho.zip', 'r')\n",
        "zipreference.extractall('Data')\n",
        "zipreference.close()\n"
      ],
      "execution_count": 5,
      "outputs": [
        {
          "output_type": "stream",
          "text": [
            "time: 10.3 ms\n"
          ],
          "name": "stdout"
        }
      ]
    },
    {
      "cell_type": "code",
      "metadata": {
        "id": "10PVMP9-xSSI",
        "outputId": "5386e970-1c33-449f-bbcc-06b9c249defd",
        "colab": {
          "base_uri": "https://localhost:8080/",
          "height": 272
        }
      },
      "source": [
        "data=pd.read_csv(\"Data/car data.csv\")\n",
        "if 'Seller_Type' in data.columns:\n",
        "  data=data.drop(['Seller_Type'], axis=1)\n",
        "if 'Car_Name' in data.columns:\n",
        "  data=data.drop(['Car_Name', 'Owner'], axis=1)\n",
        "\n",
        "#filter one species\n",
        "#datab=pd.DataFrame(columns=['Species','Weight','Length1','Length2', 'Length3', 'Height', 'Width'])\n",
        "#for i in range(0, lendata):\n",
        "#  if data.Species[i]=='Bream':\n",
        "#    datab=datab.append(data.iloc[i], ignore_index=True)\n",
        "#data=datab\n",
        "#lendata=len(data)\n",
        "\n",
        "#encoder string to numeric\n",
        "encoder=sklearn.preprocessing.LabelEncoder()\n",
        "encoder.fit(data.Fuel_Type)\n",
        "data.Fuel_Type=encoder.transform(data.Fuel_Type)\n",
        "encoder.fit(data.Transmission)\n",
        "data.Transmission=encoder.transform(data.Transmission)\n",
        "\n",
        "lendata=len(data)\n",
        "#change domain to [0,1]\n",
        "for i in range(0, len(data.columns)):\n",
        "  #print(data.iloc[:,i])\n",
        "  data.iloc[:,i]=(data.iloc[:,i]-([min(data.iloc[:,i])]*lendata))/([max(data.iloc[:,i])-min(data.iloc[:,i])]*lendata)\n",
        "print(data)"
      ],
      "execution_count": 6,
      "outputs": [
        {
          "output_type": "stream",
          "text": [
            "         Year  Selling_Price  ...  Fuel_Type  Transmission\n",
            "0    0.733333       0.093123  ...        1.0           1.0\n",
            "1    0.666667       0.133238  ...        0.5           1.0\n",
            "2    0.933333       0.204871  ...        1.0           1.0\n",
            "3    0.533333       0.078797  ...        1.0           1.0\n",
            "4    0.733333       0.128940  ...        0.5           1.0\n",
            "..        ...            ...  ...        ...           ...\n",
            "296  0.866667       0.269341  ...        0.5           1.0\n",
            "297  0.800000       0.111748  ...        1.0           1.0\n",
            "298  0.400000       0.093123  ...        1.0           1.0\n",
            "299  0.933333       0.326648  ...        0.5           1.0\n",
            "300  0.866667       0.148997  ...        1.0           1.0\n",
            "\n",
            "[301 rows x 6 columns]\n",
            "time: 67.7 ms\n"
          ],
          "name": "stdout"
        }
      ]
    },
    {
      "cell_type": "code",
      "metadata": {
        "id": "Gepmpj1Zzfxg"
      },
      "source": [
        ""
      ],
      "execution_count": 6,
      "outputs": []
    },
    {
      "cell_type": "code",
      "metadata": {
        "id": "x-RbPapBVFt6",
        "outputId": "28e18ed5-fb6f-43fe-f3f5-52f64563ebc2",
        "colab": {
          "base_uri": "https://localhost:8080/",
          "height": 1000
        }
      },
      "source": [
        "\n",
        "#split to x, y train and test\n",
        "x=data.drop('Selling_Price', axis=1)\n",
        "y=pd.DataFrame(data.Selling_Price)\n",
        "trainOTestRate=3\n",
        "xTrain=x\n",
        "xTest=pd.DataFrame(columns=x.columns)\n",
        "yTrain=y\n",
        "yTest=pd.DataFrame(columns=['Selling_Price'])\n",
        "for i in range(0, len(data)):\n",
        "  if i%(trainOTestRate+1)==0:\n",
        "    xTest=xTest.append(x.iloc[i], ignore_index=True)\n",
        "    xTrain=xTrain.drop([i])\n",
        "    yTest=yTest.append(y.iloc[i], ignore_index=True)\n",
        "    yTrain=yTrain.drop([i])\n",
        "xTrain=xTrain.reset_index(drop=True)\n",
        "yTrain=yTrain.reset_index(drop=True)\n",
        "\n",
        "#xTrain=xTrain.to_numpy()\n",
        "#xTest=xTest.to_numpy()\n",
        "#yTrain=yTrain.to_numpy()\n",
        "#yTest=yTest.to_numpy()\n",
        "print(\"train\")\n",
        "print(xTrain)\n",
        "print(yTrain)\n",
        "print(\"test\")\n",
        "print(xTest)\n",
        "print(yTest)\n"
      ],
      "execution_count": 7,
      "outputs": [
        {
          "output_type": "stream",
          "text": [
            "train\n",
            "         Year  Present_Price  Kms_Driven  Fuel_Type  Transmission\n",
            "0    0.666667       0.099913    0.085085        0.5           1.0\n",
            "1    0.933333       0.103273    0.012813        1.0           1.0\n",
            "2    0.533333       0.041504    0.009409        1.0           1.0\n",
            "3    1.000000       0.103056    0.003145        0.5           1.0\n",
            "4    0.800000       0.084525    0.036629        1.0           1.0\n",
            "..        ...            ...         ...        ...           ...\n",
            "220  0.733333       0.070221    0.065103        1.0           1.0\n",
            "221  0.800000       0.138383    0.119271        0.5           1.0\n",
            "222  0.800000       0.060468    0.119119        1.0           1.0\n",
            "223  0.400000       0.115735    0.175043        1.0           1.0\n",
            "224  0.933333       0.131990    0.017017        0.5           1.0\n",
            "\n",
            "[225 rows x 5 columns]\n",
            "     Selling_Price\n",
            "0         0.133238\n",
            "1         0.204871\n",
            "2         0.078797\n",
            "3         0.262178\n",
            "4         0.190544\n",
            "..             ...\n",
            "220       0.104585\n",
            "221       0.242120\n",
            "222       0.111748\n",
            "223       0.093123\n",
            "224       0.326648\n",
            "\n",
            "[225 rows x 1 columns]\n",
            "test\n",
            "        Year  Present_Price  Kms_Driven  Fuel_Type  Transmission\n",
            "0   0.733333       0.057109    0.053053        1.0           1.0\n",
            "1   0.733333       0.070980    0.083984        0.5           1.0\n",
            "2   0.866667       0.092870    0.039586        0.5           1.0\n",
            "3   0.800000       0.104248    0.029029        1.0           0.0\n",
            "4   0.800000       0.113459    0.082438        0.5           1.0\n",
            "..       ...            ...         ...        ...           ...\n",
            "71  0.666667       0.060468    0.018619        1.0           1.0\n",
            "72  0.800000       0.143910    0.067067        1.0           1.0\n",
            "73  0.866667       0.087560    0.023023        1.0           1.0\n",
            "74  0.866667       0.122237    0.067043        0.5           1.0\n",
            "75  0.866667       0.060468    0.009938        1.0           1.0\n",
            "\n",
            "[76 rows x 5 columns]\n",
            "    Selling_Price\n",
            "0        0.093123\n",
            "1        0.128940\n",
            "2        0.247851\n",
            "3        0.212034\n",
            "4        0.204871\n",
            "..            ...\n",
            "71       0.097421\n",
            "72       0.237822\n",
            "73       0.180516\n",
            "74       0.269341\n",
            "75       0.148997\n",
            "\n",
            "[76 rows x 1 columns]\n",
            "time: 382 ms\n"
          ],
          "name": "stdout"
        }
      ]
    },
    {
      "cell_type": "code",
      "metadata": {
        "id": "uig-aqzB9m8G",
        "outputId": "8822a142-318e-420d-83f6-b2c2f3e65aff",
        "colab": {
          "base_uri": "https://localhost:8080/",
          "height": 34
        }
      },
      "source": [
        "yTrain=yTrain.iloc[:,0]\n",
        "yTest=yTest.iloc[:,0]\n",
        "\n",
        "lenTrain=len(xTrain)\n",
        "numberInputAttr=len(x.columns)\n",
        "vector0=np.array([0]*numberInputAttr)\n",
        "xTrain=np.array(xTrain)"
      ],
      "execution_count": 8,
      "outputs": [
        {
          "output_type": "stream",
          "text": [
            "time: 3.8 ms\n"
          ],
          "name": "stdout"
        }
      ]
    },
    {
      "cell_type": "code",
      "metadata": {
        "id": "_JEEb4iU96kY",
        "outputId": "82ab6b25-2278-463d-8508-0bc505c19ced",
        "colab": {
          "base_uri": "https://localhost:8080/",
          "height": 102
        }
      },
      "source": [
        "#batch gradient descent\n",
        "#print(x)\n",
        "#print(y)\n",
        "theta=vector0*1\n",
        "\n",
        "#train\n",
        "alpha=0.001\n",
        "numEpochs=100000\n",
        "numLoops=0\n",
        "iLoopGrade=1\n",
        "while(numLoops<numEpochs):\n",
        "  errors=np.dot(xTrain, np.transpose(theta))-yTrain\n",
        "  sumerrors=np.dot(np.transpose(errors), xTrain)\n",
        "  theta=theta-alpha*sumerrors\n",
        "  #check convergent\n",
        "  numLoops+=1\n",
        "  if numLoops/iLoopGrade>1000:\n",
        "    iLoopGrade*=1000\n",
        "    alpha/=10\n",
        "\n",
        "#result\n",
        "print('theta: ',theta)\n",
        "\n",
        "#test\n",
        "test_results=np.dot(xTest, np.transpose(theta))\n",
        "test_errors=np.dot(xTest, np.transpose(theta))-yTest\n",
        "com_res=pd.DataFrame(test_results, columns=['cal_result'])\n",
        "com_res.insert(1, 'check', yTest, True)\n",
        "com_res.insert(2, 'error', test_errors, True)\n",
        "#print(com_res)\n",
        "print('Evaluate:')\n",
        "mse=1.0/len(yTest)*np.sum([i*i for i in com_res.error])\n",
        "mae=1.0/len(yTest)*np.sum([i if i>=0 else -i for i in com_res.error])\n",
        "print('1-sqrt(mse):', 1-math.sqrt(mse))\n",
        "print('1-mae:', 1-mae)\n"
      ],
      "execution_count": 9,
      "outputs": [
        {
          "output_type": "stream",
          "text": [
            "theta:  [ 0.17950823  1.23921269 -0.13548296 -0.08302725 -0.01640028]\n",
            "Evaluate:\n",
            "1-sqrt(mse): 0.9398541353120583\n",
            "1-mae: 0.963076920138347\n",
            "time: 20.3 s\n"
          ],
          "name": "stdout"
        }
      ]
    },
    {
      "cell_type": "code",
      "metadata": {
        "id": "3O7CTNWQ-IHo",
        "outputId": "e35d0bcb-3620-46b2-e629-45836dd07015",
        "colab": {
          "base_uri": "https://localhost:8080/",
          "height": 102
        }
      },
      "source": [
        "#stochatic gradient descent\n",
        "theta=vector0*1\n",
        "lenTrain=len(xTrain)\n",
        "alpha=0.001\n",
        "numEpochs=1000000\n",
        "numLoops=0\n",
        "iLoopGrade=1\n",
        "while numLoops<numEpochs:\n",
        "  error=np.dot(xTrain[numLoops%lenTrain], np.transpose(theta))-yTrain[numLoops%lenTrain]\n",
        "  total_errors=np.dot(np.transpose(error), xTrain[numLoops%lenTrain])\n",
        "  theta=theta-alpha*total_errors\n",
        "  numLoops+=1\n",
        "\n",
        "\n",
        "#result\n",
        "print(theta)\n",
        "\n",
        "#test\n",
        "test_results=np.dot(xTest, np.transpose(theta))\n",
        "test_errors=np.dot(xTest, np.transpose(theta))-yTest\n",
        "com_res=pd.DataFrame(test_results, columns=['cal_result'])\n",
        "com_res.insert(1, 'check', yTest, True)\n",
        "com_res.insert(2, 'error', test_errors, True)\n",
        "#print(com_res)\n",
        "print('Evaluate:')\n",
        "mse=1.0/len(yTest)*np.sum([i*i for i in com_res.error])\n",
        "mae=1.0/len(yTest)*np.sum([i if i>=0 else -i for i in com_res.error])\n",
        "print('1-sqrt(mse):', 1-math.sqrt(mse))\n",
        "print('1-mae:', 1-mae)"
      ],
      "execution_count": 10,
      "outputs": [
        {
          "output_type": "stream",
          "text": [
            "[ 0.18451797  1.21203263 -0.08373029 -0.08620045 -0.01917089]\n",
            "Evaluate:\n",
            "1-sqrt(mse): 0.9405903272561922\n",
            "1-mae: 0.963476861050256\n",
            "time: 13.4 s\n"
          ],
          "name": "stdout"
        }
      ]
    }
  ]
}