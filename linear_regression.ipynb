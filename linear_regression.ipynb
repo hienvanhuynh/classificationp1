{
  "nbformat": 4,
  "nbformat_minor": 0,
  "metadata": {
    "colab": {
      "name": "linear_regression.ipynb",
      "provenance": [],
      "authorship_tag": "ABX9TyOLwWK6VoVBFw2bihYAU6to",
      "include_colab_link": true
    },
    "kernelspec": {
      "name": "python3",
      "display_name": "Python 3"
    }
  },
  "cells": [
    {
      "cell_type": "markdown",
      "metadata": {
        "id": "view-in-github",
        "colab_type": "text"
      },
      "source": [
        "<a href=\"https://colab.research.google.com/github/hvhq/classificationp1/blob/master/linear_regression.ipynb\" target=\"_parent\"><img src=\"https://colab.research.google.com/assets/colab-badge.svg\" alt=\"Open In Colab\"/></a>"
      ]
    },
    {
      "cell_type": "code",
      "metadata": {
        "id": "mWiqRNkb3ak3",
        "outputId": "9ae0e57f-da5a-4f8a-a606-1c094ad05b92",
        "colab": {
          "base_uri": "https://localhost:8080/",
          "height": 54
        }
      },
      "source": [
        "from google.colab import drive\n",
        "drive.mount('gdrive')"
      ],
      "execution_count": 1,
      "outputs": [
        {
          "output_type": "stream",
          "text": [
            "Drive already mounted at gdrive; to attempt to forcibly remount, call drive.mount(\"gdrive\", force_remount=True).\n"
          ],
          "name": "stdout"
        }
      ]
    },
    {
      "cell_type": "code",
      "metadata": {
        "id": "kGyo3Zjf8Z9a"
      },
      "source": [
        "import pandas as pd\n",
        "from google.colab import files\n",
        "import sklearn\n",
        "from sklearn import preprocessing\n",
        "import numpy as np\n",
        "import math\n",
        "from sklearn.metrics import mean_squared_error"
      ],
      "execution_count": 2,
      "outputs": []
    },
    {
      "cell_type": "code",
      "metadata": {
        "id": "QmMlR4kV4bQX",
        "outputId": "555672e1-3577-4bc8-c9de-c6515fe49828",
        "colab": {
          "base_uri": "https://localhost:8080/",
          "height": 34
        }
      },
      "source": [
        "!pip install ipython-autotime\n",
        "%load_ext autotime"
      ],
      "execution_count": 3,
      "outputs": [
        {
          "output_type": "stream",
          "text": [
            "Requirement already satisfied: ipython-autotime in /usr/local/lib/python3.6/dist-packages (0.1)\n"
          ],
          "name": "stdout"
        }
      ]
    },
    {
      "cell_type": "code",
      "metadata": {
        "id": "BlKCA3jg9Biv",
        "outputId": "8fe0da5c-7174-4dad-9736-88fddb4c632c",
        "colab": {
          "resources": {
            "http://localhost:8080/nbextensions/google.colab/files.js": {
              "data": "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",
              "ok": true,
              "headers": [
                [
                  "content-type",
                  "application/javascript"
                ]
              ],
              "status": 200,
              "status_text": "OK"
            }
          },
          "base_uri": "https://localhost:8080/",
          "height": 118
        }
      },
      "source": [
        "files.upload()"
      ],
      "execution_count": 4,
      "outputs": [
        {
          "output_type": "display_data",
          "data": {
            "text/html": [
              "\n",
              "     <input type=\"file\" id=\"files-4fe76533-044f-4ae1-a8fb-49e2c0e41e9e\" name=\"files[]\" multiple disabled\n",
              "        style=\"border:none\" />\n",
              "     <output id=\"result-4fe76533-044f-4ae1-a8fb-49e2c0e41e9e\">\n",
              "      Upload widget is only available when the cell has been executed in the\n",
              "      current browser session. Please rerun this cell to enable.\n",
              "      </output>\n",
              "      <script src=\"/nbextensions/google.colab/files.js\"></script> "
            ],
            "text/plain": [
              "<IPython.core.display.HTML object>"
            ]
          },
          "metadata": {
            "tags": []
          }
        },
        {
          "output_type": "stream",
          "text": [
            "Saving Fish.csv to Fish (1).csv\n"
          ],
          "name": "stdout"
        },
        {
          "output_type": "execute_result",
          "data": {
            "text/plain": [
              "{'Fish.csv': b'\\xef\\xbb\\xbfSpecies,Weight,Length1,Length2,Length3,Height,Width\\r\\nBream,242,23.2,25.4,30,11.52,4.02\\r\\nBream,290,24,26.3,31.2,12.48,4.3056\\r\\nBream,340,23.9,26.5,31.1,12.3778,4.6961\\r\\nBream,363,26.3,29,33.5,12.73,4.4555\\r\\nBream,430,26.5,29,34,12.444,5.134\\r\\nBream,450,26.8,29.7,34.7,13.6024,4.9274\\r\\nBream,500,26.8,29.7,34.5,14.1795,5.2785\\r\\nBream,390,27.6,30,35,12.67,4.69\\r\\nBream,450,27.6,30,35.1,14.0049,4.8438\\r\\nBream,500,28.5,30.7,36.2,14.2266,4.9594\\r\\nBream,475,28.4,31,36.2,14.2628,5.1042\\r\\nBream,500,28.7,31,36.2,14.3714,4.8146\\r\\nBream,500,29.1,31.5,36.4,13.7592,4.368\\r\\nBream,340,29.5,32,37.3,13.9129,5.0728\\r\\nBream,600,29.4,32,37.2,14.9544,5.1708\\r\\nBream,600,29.4,32,37.2,15.438,5.58\\r\\nBream,700,30.4,33,38.3,14.8604,5.2854\\r\\nBream,700,30.4,33,38.5,14.938,5.1975\\r\\nBream,610,30.9,33.5,38.6,15.633,5.1338\\r\\nBream,650,31,33.5,38.7,14.4738,5.7276\\r\\nBream,575,31.3,34,39.5,15.1285,5.5695\\r\\nBream,685,31.4,34,39.2,15.9936,5.3704\\r\\nBream,620,31.5,34.5,39.7,15.5227,5.2801\\r\\nBream,680,31.8,35,40.6,15.4686,6.1306\\r\\nBream,700,31.9,35,40.5,16.2405,5.589\\r\\nBream,725,31.8,35,40.9,16.36,6.0532\\r\\nBream,720,32,35,40.6,16.3618,6.09\\r\\nBream,714,32.7,36,41.5,16.517,5.8515\\r\\nBream,850,32.8,36,41.6,16.8896,6.1984\\r\\nBream,1000,33.5,37,42.6,18.957,6.603\\r\\nBream,920,35,38.5,44.1,18.0369,6.3063\\r\\nBream,955,35,38.5,44,18.084,6.292\\r\\nBream,925,36.2,39.5,45.3,18.7542,6.7497\\r\\nBream,975,37.4,41,45.9,18.6354,6.7473\\r\\nBream,950,38,41,46.5,17.6235,6.3705\\r\\nRoach,40,12.9,14.1,16.2,4.1472,2.268\\r\\nRoach,69,16.5,18.2,20.3,5.2983,2.8217\\r\\nRoach,78,17.5,18.8,21.2,5.5756,2.9044\\r\\nRoach,87,18.2,19.8,22.2,5.6166,3.1746\\r\\nRoach,120,18.6,20,22.2,6.216,3.5742\\r\\nRoach,0,19,20.5,22.8,6.4752,3.3516\\r\\nRoach,110,19.1,20.8,23.1,6.1677,3.3957\\r\\nRoach,120,19.4,21,23.7,6.1146,3.2943\\r\\nRoach,150,20.4,22,24.7,5.8045,3.7544\\r\\nRoach,145,20.5,22,24.3,6.6339,3.5478\\r\\nRoach,160,20.5,22.5,25.3,7.0334,3.8203\\r\\nRoach,140,21,22.5,25,6.55,3.325\\r\\nRoach,160,21.1,22.5,25,6.4,3.8\\r\\nRoach,169,22,24,27.2,7.5344,3.8352\\r\\nRoach,161,22,23.4,26.7,6.9153,3.6312\\r\\nRoach,200,22.1,23.5,26.8,7.3968,4.1272\\r\\nRoach,180,23.6,25.2,27.9,7.0866,3.906\\r\\nRoach,290,24,26,29.2,8.8768,4.4968\\r\\nRoach,272,25,27,30.6,8.568,4.7736\\r\\nRoach,390,29.5,31.7,35,9.485,5.355\\r\\nWhitefish,270,23.6,26,28.7,8.3804,4.2476\\r\\nWhitefish,270,24.1,26.5,29.3,8.1454,4.2485\\r\\nWhitefish,306,25.6,28,30.8,8.778,4.6816\\r\\nWhitefish,540,28.5,31,34,10.744,6.562\\r\\nWhitefish,800,33.7,36.4,39.6,11.7612,6.5736\\r\\nWhitefish,1000,37.3,40,43.5,12.354,6.525\\r\\nParkki,55,13.5,14.7,16.5,6.8475,2.3265\\r\\nParkki,60,14.3,15.5,17.4,6.5772,2.3142\\r\\nParkki,90,16.3,17.7,19.8,7.4052,2.673\\r\\nParkki,120,17.5,19,21.3,8.3922,2.9181\\r\\nParkki,150,18.4,20,22.4,8.8928,3.2928\\r\\nParkki,140,19,20.7,23.2,8.5376,3.2944\\r\\nParkki,170,19,20.7,23.2,9.396,3.4104\\r\\nParkki,145,19.8,21.5,24.1,9.7364,3.1571\\r\\nParkki,200,21.2,23,25.8,10.3458,3.6636\\r\\nParkki,273,23,25,28,11.088,4.144\\r\\nParkki,300,24,26,29,11.368,4.234\\r\\nPerch,5.9,7.5,8.4,8.8,2.112,1.408\\r\\nPerch,32,12.5,13.7,14.7,3.528,1.9992\\r\\nPerch,40,13.8,15,16,3.824,2.432\\r\\nPerch,51.5,15,16.2,17.2,4.5924,2.6316\\r\\nPerch,70,15.7,17.4,18.5,4.588,2.9415\\r\\nPerch,100,16.2,18,19.2,5.2224,3.3216\\r\\nPerch,78,16.8,18.7,19.4,5.1992,3.1234\\r\\nPerch,80,17.2,19,20.2,5.6358,3.0502\\r\\nPerch,85,17.8,19.6,20.8,5.1376,3.0368\\r\\nPerch,85,18.2,20,21,5.082,2.772\\r\\nPerch,110,19,21,22.5,5.6925,3.555\\r\\nPerch,115,19,21,22.5,5.9175,3.3075\\r\\nPerch,125,19,21,22.5,5.6925,3.6675\\r\\nPerch,130,19.3,21.3,22.8,6.384,3.534\\r\\nPerch,120,20,22,23.5,6.11,3.4075\\r\\nPerch,120,20,22,23.5,5.64,3.525\\r\\nPerch,130,20,22,23.5,6.11,3.525\\r\\nPerch,135,20,22,23.5,5.875,3.525\\r\\nPerch,110,20,22,23.5,5.5225,3.995\\r\\nPerch,130,20.5,22.5,24,5.856,3.624\\r\\nPerch,150,20.5,22.5,24,6.792,3.624\\r\\nPerch,145,20.7,22.7,24.2,5.9532,3.63\\r\\nPerch,150,21,23,24.5,5.2185,3.626\\r\\nPerch,170,21.5,23.5,25,6.275,3.725\\r\\nPerch,225,22,24,25.5,7.293,3.723\\r\\nPerch,145,22,24,25.5,6.375,3.825\\r\\nPerch,188,22.6,24.6,26.2,6.7334,4.1658\\r\\nPerch,180,23,25,26.5,6.4395,3.6835\\r\\nPerch,197,23.5,25.6,27,6.561,4.239\\r\\nPerch,218,25,26.5,28,7.168,4.144\\r\\nPerch,300,25.2,27.3,28.7,8.323,5.1373\\r\\nPerch,260,25.4,27.5,28.9,7.1672,4.335\\r\\nPerch,265,25.4,27.5,28.9,7.0516,4.335\\r\\nPerch,250,25.4,27.5,28.9,7.2828,4.5662\\r\\nPerch,250,25.9,28,29.4,7.8204,4.2042\\r\\nPerch,300,26.9,28.7,30.1,7.5852,4.6354\\r\\nPerch,320,27.8,30,31.6,7.6156,4.7716\\r\\nPerch,514,30.5,32.8,34,10.03,6.018\\r\\nPerch,556,32,34.5,36.5,10.2565,6.3875\\r\\nPerch,840,32.5,35,37.3,11.4884,7.7957\\r\\nPerch,685,34,36.5,39,10.881,6.864\\r\\nPerch,700,34,36,38.3,10.6091,6.7408\\r\\nPerch,700,34.5,37,39.4,10.835,6.2646\\r\\nPerch,690,34.6,37,39.3,10.5717,6.3666\\r\\nPerch,900,36.5,39,41.4,11.1366,7.4934\\r\\nPerch,650,36.5,39,41.4,11.1366,6.003\\r\\nPerch,820,36.6,39,41.3,12.4313,7.3514\\r\\nPerch,850,36.9,40,42.3,11.9286,7.1064\\r\\nPerch,900,37,40,42.5,11.73,7.225\\r\\nPerch,1015,37,40,42.4,12.3808,7.4624\\r\\nPerch,820,37.1,40,42.5,11.135,6.63\\r\\nPerch,1100,39,42,44.6,12.8002,6.8684\\r\\nPerch,1000,39.8,43,45.2,11.9328,7.2772\\r\\nPerch,1100,40.1,43,45.5,12.5125,7.4165\\r\\nPerch,1000,40.2,43.5,46,12.604,8.142\\r\\nPerch,1000,41.1,44,46.6,12.4888,7.5958\\r\\nPike,200,30,32.3,34.8,5.568,3.3756\\r\\nPike,300,31.7,34,37.8,5.7078,4.158\\r\\nPike,300,32.7,35,38.8,5.9364,4.3844\\r\\nPike,300,34.8,37.3,39.8,6.2884,4.0198\\r\\nPike,430,35.5,38,40.5,7.29,4.5765\\r\\nPike,345,36,38.5,41,6.396,3.977\\r\\nPike,456,40,42.5,45.5,7.28,4.3225\\r\\nPike,510,40,42.5,45.5,6.825,4.459\\r\\nPike,540,40.1,43,45.8,7.786,5.1296\\r\\nPike,500,42,45,48,6.96,4.896\\r\\nPike,567,43.2,46,48.7,7.792,4.87\\r\\nPike,770,44.8,48,51.2,7.68,5.376\\r\\nPike,950,48.3,51.7,55.1,8.9262,6.1712\\r\\nPike,1250,52,56,59.7,10.6863,6.9849\\r\\nPike,1600,56,60,64,9.6,6.144\\r\\nPike,1550,56,60,64,9.6,6.144\\r\\nPike,1650,59,63.4,68,10.812,7.48\\r\\nSmelt,6.7,9.3,9.8,10.8,1.7388,1.0476\\r\\nSmelt,7.5,10,10.5,11.6,1.972,1.16\\r\\nSmelt,7,10.1,10.6,11.6,1.7284,1.1484\\r\\nSmelt,9.7,10.4,11,12,2.196,1.38\\r\\nSmelt,9.8,10.7,11.2,12.4,2.0832,1.2772\\r\\nSmelt,8.7,10.8,11.3,12.6,1.9782,1.2852\\r\\nSmelt,10,11.3,11.8,13.1,2.2139,1.2838\\r\\nSmelt,9.9,11.3,11.8,13.1,2.2139,1.1659\\r\\nSmelt,9.8,11.4,12,13.2,2.2044,1.1484\\r\\nSmelt,12.2,11.5,12.2,13.4,2.0904,1.3936\\r\\nSmelt,13.4,11.7,12.4,13.5,2.43,1.269\\r\\nSmelt,12.2,12.1,13,13.8,2.277,1.2558\\r\\nSmelt,19.7,13.2,14.3,15.2,2.8728,2.0672\\r\\nSmelt,19.9,13.8,15,16.2,2.9322,1.8792\\r\\n'}"
            ]
          },
          "metadata": {
            "tags": []
          },
          "execution_count": 4
        },
        {
          "output_type": "stream",
          "text": [
            "time: 8.26 s\n"
          ],
          "name": "stdout"
        }
      ]
    },
    {
      "cell_type": "code",
      "metadata": {
        "id": "n8mrhYzG8Hig",
        "outputId": "88fa903e-4cd5-4b2f-c605-efba4d343330",
        "colab": {
          "base_uri": "https://localhost:8080/",
          "height": 1000
        }
      },
      "source": [
        "data=pd.read_csv(\"Fish.csv\")\n",
        "lendata=len(data)\n",
        "\n",
        "#filter one species\n",
        "#datab=pd.DataFrame(columns=['Species','Weight','Length1','Length2', 'Length3', 'Height', 'Width'])\n",
        "#for i in range(0, lendata):\n",
        "#  if data.Species[i]=='Bream':\n",
        "#    datab=datab.append(data.iloc[i], ignore_index=True)\n",
        "#data=datab\n",
        "#lendata=len(data)\n",
        "\n",
        "#encoder string to numeric\n",
        "encoder=sklearn.preprocessing.LabelEncoder()\n",
        "encoder.fit(data.Species)\n",
        "data.Species=encoder.transform(data.Species)\n",
        "\n",
        "#change domain to [0,1]\n",
        "data.Length1=(data.Length1-([min(data.Length1)]*lendata))/([max(data.Length1)-min(data.Length1)]*lendata)\n",
        "data.Length2=(data.Length2-([min(data.Length2)]*lendata))/([max(data.Length2)-min(data.Length2)]*lendata)\n",
        "data.Length3=(data.Length3-([min(data.Length3)]*lendata))/([max(data.Length3)-min(data.Length3)]*lendata)\n",
        "data.Height=(data.Height-([min(data.Height)]*lendata))/([max(data.Height)-min(data.Height)]*lendata)\n",
        "data.Width=(data.Width-([min(data.Width)]*lendata))/([max(data.Width)-min(data.Width)]*lendata)\n",
        "#data.Species=(data.Species-([min(data.Species)]*lendata))/([max(data.Species)-min(data.Species)]*lendata)\n",
        "data.Weight=(data.Weight-([min(data.Weight)]*lendata))/([max(data.Weight)-min(data.Weight)]*lendata)\n",
        "\n",
        "x=data.drop('Weight', axis=1)\n",
        "y=pd.DataFrame(data.Weight)\n",
        "trainOTestRate=3\n",
        "xTrain=x\n",
        "xTest=pd.DataFrame(columns=['Species', 'Length1', 'Length2', 'Length3', 'Height', 'Width'])\n",
        "yTrain=y\n",
        "yTest=pd.DataFrame(columns=['Weight'])\n",
        "for i in range(0, len(data)):\n",
        "  if i%(trainOTestRate+1)==0:\n",
        "    xTest=xTest.append(x.iloc[i], ignore_index=True)\n",
        "    xTrain=xTrain.drop([i])\n",
        "    yTest=yTest.append(y.iloc[i], ignore_index=True)\n",
        "    yTrain=yTrain.drop([i])\n",
        "xTrain=xTrain.reset_index(drop=True)\n",
        "yTrain=yTrain.reset_index(drop=True)\n",
        "\n",
        "#xTrain=xTrain.to_numpy()\n",
        "#xTest=xTest.to_numpy()\n",
        "#yTrain=yTrain.to_numpy()\n",
        "#yTest=yTest.to_numpy()\n",
        "print(\"train\")\n",
        "print(xTrain)\n",
        "print(yTrain)\n",
        "print(\"test\")\n",
        "print(xTest)\n",
        "print(yTest)\n"
      ],
      "execution_count": 5,
      "outputs": [
        {
          "output_type": "stream",
          "text": [
            "train\n",
            "     Species   Length1   Length2   Length3    Height     Width\n",
            "0          0  0.320388  0.325455  0.378378  0.624055  0.459235\n",
            "1          0  0.318447  0.329091  0.376689  0.618123  0.514279\n",
            "2          0  0.365049  0.374545  0.417230  0.638566  0.480365\n",
            "3          0  0.374757  0.387273  0.437500  0.689203  0.546882\n",
            "4          0  0.374757  0.387273  0.434122  0.722699  0.596372\n",
            "..       ...       ...       ...       ...       ...       ...\n",
            "114        5  0.075728  0.065455  0.074324  0.027628  0.014208\n",
            "115        5  0.077670  0.069091  0.077703  0.021012  0.048771\n",
            "116        5  0.081553  0.072727  0.079392  0.040723  0.031208\n",
            "117        5  0.110680  0.107273  0.108108  0.066424  0.143719\n",
            "118        5  0.122330  0.120000  0.125000  0.069872  0.117219\n",
            "\n",
            "[119 rows x 6 columns]\n",
            "       Weight\n",
            "0    0.175758\n",
            "1    0.206061\n",
            "2    0.220000\n",
            "3    0.272727\n",
            "4    0.303030\n",
            "..        ...\n",
            "114  0.005939\n",
            "115  0.007394\n",
            "116  0.008121\n",
            "117  0.011939\n",
            "118  0.012061\n",
            "\n",
            "[119 rows x 1 columns]\n",
            "test\n",
            "    Species   Length1   Length2   Length3    Height     Width\n",
            "0       0.0  0.304854  0.309091  0.358108  0.568334  0.418978\n",
            "1       0.0  0.368932  0.374545  0.425676  0.621966  0.576004\n",
            "2       0.0  0.390291  0.392727  0.444257  0.712565  0.535098\n",
            "3       0.0  0.419417  0.420000  0.466216  0.698304  0.468031\n",
            "4       0.0  0.444660  0.447273  0.498311  0.762221  0.597344\n",
            "5       0.0  0.462136  0.465455  0.518581  0.777782  0.637390\n",
            "6       0.0  0.473786  0.483636  0.535473  0.842326  0.640139\n",
            "7       0.0  0.491262  0.501818  0.554054  0.880002  0.726037\n",
            "8       0.0  0.557282  0.565455  0.616554  0.988229  0.803747\n",
            "9       4.0  0.174757  0.178182  0.194257  0.207208  0.250070\n",
            "10      4.0  0.223301  0.220000  0.236486  0.275519  0.324763\n",
            "11      4.0  0.252427  0.247273  0.261824  0.284730  0.352419\n",
            "12      4.0  0.281553  0.283636  0.310811  0.336998  0.392930\n",
            "13      4.0  0.320388  0.320000  0.344595  0.414915  0.486186\n",
            "14      6.0  0.322330  0.329091  0.346284  0.372462  0.451187\n",
            "15      6.0  0.578641  0.574545  0.586149  0.616742  0.772074\n",
            "16      1.0  0.194175  0.192727  0.211149  0.386787  0.263659\n",
            "17      1.0  0.238835  0.238182  0.258446  0.464809  0.297347\n",
            "18      2.0  0.000000  0.000000  0.000000  0.022265  0.050801\n",
            "19      2.0  0.159223  0.163636  0.163851  0.165980  0.266957\n",
            "20      2.0  0.200000  0.203636  0.202703  0.197880  0.280390\n",
            "21      2.0  0.223301  0.229091  0.231419  0.230088  0.369291\n",
            "22      2.0  0.242718  0.247273  0.248311  0.254321  0.349205\n",
            "23      2.0  0.252427  0.256364  0.256757  0.293907  0.363160\n",
            "24      2.0  0.281553  0.283636  0.282095  0.322986  0.377114\n",
            "25      2.0  0.310680  0.312727  0.307432  0.280499  0.449848\n",
            "26      2.0  0.347573  0.347273  0.339527  0.308975  0.463380\n",
            "27      2.0  0.394175  0.392727  0.385135  0.341711  0.524921\n",
            "28      2.0  0.514563  0.510909  0.510135  0.531245  0.819858\n",
            "29      2.0  0.563107  0.556364  0.550676  0.546080  0.908576\n",
            "30      2.0  0.572816  0.574545  0.569257  0.580523  0.870743\n",
            "31      2.0  0.627184  0.629091  0.614865  0.592294  0.878101\n",
            "32      3.0  0.436893  0.434545  0.439189  0.222862  0.328146\n",
            "33      3.0  0.543689  0.538182  0.535473  0.322812  0.497421\n",
            "34      3.0  0.633010  0.629091  0.625000  0.351601  0.575383\n",
            "35      3.0  0.792233  0.787273  0.782095  0.417782  0.722203\n",
            "36      3.0  1.000000  1.000000  1.000000  0.527240  0.906687\n",
            "37      5.0  0.056311  0.047273  0.054054  0.027141  0.046854\n",
            "38      5.0  0.073786  0.061818  0.072635  0.028180  0.016675\n",
            "39      5.0  0.089320  0.083636  0.084459  0.031842  0.029347\n",
            "      Weight\n",
            "0   0.146667\n",
            "1   0.260606\n",
            "2   0.272727\n",
            "3   0.303030\n",
            "4   0.424242\n",
            "5   0.348485\n",
            "6   0.424242\n",
            "7   0.515152\n",
            "8   0.560606\n",
            "9   0.041818\n",
            "10  0.000000\n",
            "11  0.087879\n",
            "12  0.102424\n",
            "13  0.175758\n",
            "14  0.163636\n",
            "15  0.606061\n",
            "16  0.072727\n",
            "17  0.087879\n",
            "18  0.003576\n",
            "19  0.042424\n",
            "20  0.051515\n",
            "21  0.075758\n",
            "22  0.078788\n",
            "23  0.090909\n",
            "24  0.136364\n",
            "25  0.119394\n",
            "26  0.160606\n",
            "27  0.193939\n",
            "28  0.415152\n",
            "29  0.545455\n",
            "30  0.545455\n",
            "31  0.606061\n",
            "32  0.121212\n",
            "33  0.260606\n",
            "34  0.327273\n",
            "35  0.575758\n",
            "36  1.000000\n",
            "37  0.005879\n",
            "38  0.006000\n",
            "39  0.007394\n",
            "time: 343 ms\n"
          ],
          "name": "stdout"
        }
      ]
    },
    {
      "cell_type": "code",
      "metadata": {
        "id": "4dmSMDgegKtF",
        "outputId": "04a68013-0460-4f9d-ac03-4dd73650871e",
        "colab": {
          "base_uri": "https://localhost:8080/",
          "height": 34
        }
      },
      "source": [
        "yTrain=yTrain.iloc[:,0]\n",
        "yTest=yTest.iloc[:,0]\n",
        "\n",
        "lenTrain=len(xTrain)\n",
        "numberInputAttr=6\n",
        "vector0=np.array([0]*numberInputAttr)\n",
        "xTrain=np.array(xTrain)"
      ],
      "execution_count": 6,
      "outputs": [
        {
          "output_type": "stream",
          "text": [
            "time: 2.97 ms\n"
          ],
          "name": "stdout"
        }
      ]
    },
    {
      "cell_type": "code",
      "metadata": {
        "id": "wywR-g0iMqdH",
        "outputId": "49d5f8c1-303b-4523-933a-4beb60c7bbff",
        "colab": {
          "base_uri": "https://localhost:8080/",
          "height": 104
        }
      },
      "source": [
        "#batch gradient descent\n",
        "#print(x)\n",
        "#print(y)\n",
        "theta=vector0*1\n",
        "\n",
        "#train\n",
        "alpha=0.001\n",
        "numEpochs=100000\n",
        "numLoops=0\n",
        "iLoopGrade=1\n",
        "while(numLoops<numEpochs):\n",
        "  errors=np.dot(xTrain, np.transpose(theta))-yTrain\n",
        "  sumerrors=np.dot(np.transpose(errors), xTrain)\n",
        "  theta=theta-alpha*sumerrors\n",
        "  #check convergent\n",
        "  numLoops+=1\n",
        "  if numLoops/iLoopGrade>1000:\n",
        "    iLoopGrade*=1000\n",
        "    alpha/=10\n",
        "\n",
        "#result\n",
        "print('theta: ',theta)\n",
        "\n",
        "#test\n",
        "test_results=np.dot(xTest, np.transpose(theta))\n",
        "test_errors=np.dot(xTest, np.transpose(theta))-yTest\n",
        "com_res=pd.DataFrame(test_results, columns=['cal_result'])\n",
        "com_res.insert(1, 'check', yTest, True)\n",
        "com_res.insert(2, 'error', test_errors, True)\n",
        "#print(com_res)\n",
        "print('Evaluate:')\n",
        "mse=1.0/len(yTest)*np.sum([i*i for i in com_res.error])\n",
        "mae=1.0/len(yTest)*np.sum([i if i>=0 else -i for i in com_res.error])\n",
        "print('1-sqrt(mse):', 1-math.sqrt(mse))\n",
        "print('1-mae:', 1-mae)\n"
      ],
      "execution_count": 7,
      "outputs": [
        {
          "output_type": "stream",
          "text": [
            "theta:  [-0.02484979  0.30305032  0.293232    0.06635236 -0.05090675  0.18655022]\n",
            "Evaluate:\n",
            "1-sqrt(mse): 0.9059384721563744\n",
            "1-mae: 0.9225774971156803\n",
            "time: 24.8 s\n"
          ],
          "name": "stdout"
        }
      ]
    },
    {
      "cell_type": "code",
      "metadata": {
        "id": "32oV5HVhnC9_",
        "outputId": "c76d021e-2cc8-4646-cb5d-cdb1dd0f324d",
        "colab": {
          "base_uri": "https://localhost:8080/",
          "height": 104
        }
      },
      "source": [
        "#stochatic gradient descent\n",
        "theta=vector0*1\n",
        "lenTrain=len(xTrain)\n",
        "alpha=0.001\n",
        "numEpochs=1000000\n",
        "numLoops=0\n",
        "iLoopGrade=1\n",
        "while numLoops<numEpochs:\n",
        "  error=np.dot(xTrain[numLoops%lenTrain], np.transpose(theta))-yTrain[numLoops%lenTrain]\n",
        "  total_errors=np.dot(np.transpose(error), xTrain[numLoops%lenTrain])\n",
        "  theta=theta-alpha*total_errors\n",
        "  numLoops+=1\n",
        "\n",
        "\n",
        "#result\n",
        "print(theta)\n",
        "\n",
        "#test\n",
        "test_results=np.dot(xTest, np.transpose(theta))\n",
        "test_errors=np.dot(xTest, np.transpose(theta))-yTest\n",
        "com_res=pd.DataFrame(test_results, columns=['cal_result'])\n",
        "com_res.insert(1, 'check', yTest, True)\n",
        "com_res.insert(2, 'error', test_errors, True)\n",
        "#print(com_res)\n",
        "print('Evaluate:')\n",
        "mse=1.0/len(yTest)*np.sum([i*i for i in com_res.error])\n",
        "mae=1.0/len(yTest)*np.sum([i if i>=0 else -i for i in com_res.error])\n",
        "print('1-sqrt(mse):', 1-math.sqrt(mse))\n",
        "print('1-mae:', 1-mae)"
      ],
      "execution_count": 8,
      "outputs": [
        {
          "output_type": "stream",
          "text": [
            "[-0.02557028  0.30328286  0.29058423  0.09665792 -0.0723274   0.19182304]\n",
            "Evaluate:\n",
            "1-sqrt(mse): 0.9065461313434864\n",
            "1-mae: 0.922501221593957\n",
            "time: 14.4 s\n"
          ],
          "name": "stdout"
        }
      ]
    },
    {
      "cell_type": "code",
      "metadata": {
        "id": "nUAJRpHXEjEG",
        "outputId": "d75b7b1c-9b16-45d9-d87c-8345910eb607",
        "colab": {
          "base_uri": "https://localhost:8080/",
          "height": 104
        }
      },
      "source": [
        "#mini-batch gradient descent\n",
        "theta=vector0*1\n",
        "lenTrain=len(xTrain)\n",
        "alpha=0.001\n",
        "numEpochs=100\n",
        "iLoops=0\n",
        "numBatch=5\n",
        "sizeBatch=lenTrain/numBatch+(lenTrain%numBatch!=0)\n",
        "iBatch=0\n",
        "iLoopGrade=1\n",
        "while iLoops<numEpochs:\n",
        "  #error=np.dot(xTrain[iBatch*sizeBatch:min((iBatch+1)*sizeBatch, lenTrain)], np.transpose(theta))-yTrain[iBatch*sizeBatch:min((iBatch+1)*sizeBatch, lenTrain)]\n",
        "  #total_errors=np.dot(np.transpose(error), xTrain[iBatch*sizeBatch:min((iBatch+1)*sizeBatch, lenTrain)])\n",
        "  #theta=theta-alpha*total_errors\n",
        "  iBatch+=1\n",
        "  if iBatch>=numBatch:\n",
        "    iBatch=0\n",
        "  iLoops+=1\n",
        "\n",
        "\n",
        "#result\n",
        "print(theta)\n",
        "\n",
        "#test\n",
        "test_results=np.dot(xTest, np.transpose(theta))\n",
        "test_errors=np.dot(xTest, np.transpose(theta))-yTest\n",
        "com_res=pd.DataFrame(test_results, columns=['cal_result'])\n",
        "com_res.insert(1, 'check', yTest, True)\n",
        "com_res.insert(2, 'error', test_errors, True)\n",
        "#print(com_res)\n",
        "print('Evaluate:')\n",
        "mse=1.0/len(yTest)*np.sum([i*i for i in com_res.error])\n",
        "mae=1.0/len(yTest)*np.sum([i if i>=0 else -i for i in com_res.error])\n",
        "print('1-sqrt(mse):', 1-math.sqrt(mse))\n",
        "print('1-mae:', 1-mae)"
      ],
      "execution_count": 9,
      "outputs": [
        {
          "output_type": "stream",
          "text": [
            "[0 0 0 0 0 0]\n",
            "Evaluate:\n",
            "1-sqrt(mse): 0.6626713848749479\n",
            "1-mae: 0.7509136363636364\n",
            "time: 21.3 ms\n"
          ],
          "name": "stdout"
        }
      ]
    },
    {
      "cell_type": "code",
      "metadata": {
        "id": "jX5uEQwUNqIO",
        "outputId": "d97da020-9859-46d8-9aa0-c9c91b5de736",
        "colab": {
          "base_uri": "https://localhost:8080/",
          "height": 104
        }
      },
      "source": [
        "#formula\n",
        "inverse_matrix=np.linalg.inv(np.dot(np.transpose(xTrain),xTrain))\n",
        "theta=np.dot(np.dot(inverse_matrix,np.transpose(xTrain)), yTrain)\n",
        "print(theta)\n",
        "\n",
        "#test\n",
        "test_results=np.dot(xTest, np.transpose(theta))\n",
        "test_errors=np.dot(xTest, np.transpose(theta))-yTest\n",
        "com_res=pd.DataFrame(test_results, columns=['cal_result'])\n",
        "com_res.insert(1, 'check', yTest, True)\n",
        "com_res.insert(2, 'error', test_errors, True)\n",
        "#print(com_res)\n",
        "print('Evaluate:')\n",
        "mse=1.0/len(yTest)*np.sum([i*i for i in com_res.error])\n",
        "mae=1.0/len(yTest)*np.sum([i if i>=0 else -i for i in com_res.error])\n",
        "print('1-sqrt(mse):', 1-math.sqrt(mse))\n",
        "print('1-mae:', 1-mae)"
      ],
      "execution_count": 10,
      "outputs": [
        {
          "output_type": "stream",
          "text": [
            "[-0.02037279  0.31165614  1.99397467 -1.64676851  0.19298268  0.00682802]\n",
            "Evaluate:\n",
            "1-sqrt(mse): 0.9047214055543749\n",
            "1-mae: 0.9229798985796567\n",
            "time: 21.5 ms\n"
          ],
          "name": "stdout"
        }
      ]
    },
    {
      "cell_type": "code",
      "metadata": {
        "id": "QuCP2a_xKMLZ"
      },
      "source": [
        ""
      ],
      "execution_count": 10,
      "outputs": []
    }
  ]
}