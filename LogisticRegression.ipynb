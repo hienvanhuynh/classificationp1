{
  "nbformat": 4,
  "nbformat_minor": 0,
  "metadata": {
    "colab": {
      "name": "LogisticRegression.ipynb",
      "provenance": [],
      "collapsed_sections": [],
      "authorship_tag": "ABX9TyPR08lMIHpsVXGu3zBfrE20",
      "include_colab_link": true
    },
    "kernelspec": {
      "name": "python3",
      "display_name": "Python 3"
    }
  },
  "cells": [
    {
      "cell_type": "markdown",
      "metadata": {
        "id": "view-in-github",
        "colab_type": "text"
      },
      "source": [
        "<a href=\"https://colab.research.google.com/github/hvhq/classificationp1/blob/master/LogisticRegression.ipynb\" target=\"_parent\"><img src=\"https://colab.research.google.com/assets/colab-badge.svg\" alt=\"Open In Colab\"/></a>"
      ]
    },
    {
      "cell_type": "code",
      "metadata": {
        "id": "xI9CE0acgVyP",
        "outputId": "b18360e1-1490-4e03-e97d-9eda001e66f1",
        "colab": {
          "base_uri": "https://localhost:8080/",
          "height": 34
        }
      },
      "source": [
        "from os import path\n",
        "\n",
        "if not path.exists('gdrive'):\n",
        "  from google.colab import drive\n",
        "  drive.mount('gdrive')"
      ],
      "execution_count": 1,
      "outputs": [
        {
          "output_type": "stream",
          "text": [
            "Mounted at gdrive\n"
          ],
          "name": "stdout"
        }
      ]
    },
    {
      "cell_type": "code",
      "metadata": {
        "id": "4k86OyRYzj1J"
      },
      "source": [
        "#from google.colab import drive\n",
        "#drive.flush_and_unmount()"
      ],
      "execution_count": 2,
      "outputs": []
    },
    {
      "cell_type": "code",
      "metadata": {
        "id": "yeIxKBgRg02E"
      },
      "source": [
        "import numpy as np\n",
        "import pandas as pd\n",
        "import json\n",
        "import zipfile\n",
        "import sklearn\n",
        "import math"
      ],
      "execution_count": 3,
      "outputs": []
    },
    {
      "cell_type": "code",
      "metadata": {
        "id": "EDqickQMhL5G",
        "outputId": "401e3873-e07f-49d3-8d9b-9d029e1be96c",
        "colab": {
          "base_uri": "https://localhost:8080/",
          "height": 558
        }
      },
      "source": [
        "!pip install ipython-autotime\n",
        "%load_ext autotime\n",
        "!pip install kaggle\n",
        "!mkdir -p /root/.kaggle"
      ],
      "execution_count": 4,
      "outputs": [
        {
          "output_type": "stream",
          "text": [
            "Collecting ipython-autotime\n",
            "  Downloading https://files.pythonhosted.org/packages/3f/58/a4a65efcce5c81a67b6893ade862736de355a3a718af5533d30c991831ce/ipython_autotime-0.2.0-py2.py3-none-any.whl\n",
            "Requirement already satisfied: ipython in /usr/local/lib/python3.6/dist-packages (from ipython-autotime) (5.5.0)\n",
            "Requirement already satisfied: setuptools>=18.5 in /usr/local/lib/python3.6/dist-packages (from ipython->ipython-autotime) (50.3.0)\n",
            "Requirement already satisfied: traitlets>=4.2 in /usr/local/lib/python3.6/dist-packages (from ipython->ipython-autotime) (4.3.3)\n",
            "Requirement already satisfied: simplegeneric>0.8 in /usr/local/lib/python3.6/dist-packages (from ipython->ipython-autotime) (0.8.1)\n",
            "Requirement already satisfied: pygments in /usr/local/lib/python3.6/dist-packages (from ipython->ipython-autotime) (2.6.1)\n",
            "Requirement already satisfied: prompt-toolkit<2.0.0,>=1.0.4 in /usr/local/lib/python3.6/dist-packages (from ipython->ipython-autotime) (1.0.18)\n",
            "Requirement already satisfied: decorator in /usr/local/lib/python3.6/dist-packages (from ipython->ipython-autotime) (4.4.2)\n",
            "Requirement already satisfied: pexpect; sys_platform != \"win32\" in /usr/local/lib/python3.6/dist-packages (from ipython->ipython-autotime) (4.8.0)\n",
            "Requirement already satisfied: pickleshare in /usr/local/lib/python3.6/dist-packages (from ipython->ipython-autotime) (0.7.5)\n",
            "Requirement already satisfied: six in /usr/local/lib/python3.6/dist-packages (from traitlets>=4.2->ipython->ipython-autotime) (1.15.0)\n",
            "Requirement already satisfied: ipython-genutils in /usr/local/lib/python3.6/dist-packages (from traitlets>=4.2->ipython->ipython-autotime) (0.2.0)\n",
            "Requirement already satisfied: wcwidth in /usr/local/lib/python3.6/dist-packages (from prompt-toolkit<2.0.0,>=1.0.4->ipython->ipython-autotime) (0.2.5)\n",
            "Requirement already satisfied: ptyprocess>=0.5 in /usr/local/lib/python3.6/dist-packages (from pexpect; sys_platform != \"win32\"->ipython->ipython-autotime) (0.6.0)\n",
            "Installing collected packages: ipython-autotime\n",
            "Successfully installed ipython-autotime-0.2.0\n",
            "Requirement already satisfied: kaggle in /usr/local/lib/python3.6/dist-packages (1.5.8)\n",
            "Requirement already satisfied: requests in /usr/local/lib/python3.6/dist-packages (from kaggle) (2.23.0)\n",
            "Requirement already satisfied: python-slugify in /usr/local/lib/python3.6/dist-packages (from kaggle) (4.0.1)\n",
            "Requirement already satisfied: urllib3<1.25,>=1.21.1 in /usr/local/lib/python3.6/dist-packages (from kaggle) (1.24.3)\n",
            "Requirement already satisfied: python-dateutil in /usr/local/lib/python3.6/dist-packages (from kaggle) (2.8.1)\n",
            "Requirement already satisfied: slugify in /usr/local/lib/python3.6/dist-packages (from kaggle) (0.0.1)\n",
            "Requirement already satisfied: six>=1.10 in /usr/local/lib/python3.6/dist-packages (from kaggle) (1.15.0)\n",
            "Requirement already satisfied: certifi in /usr/local/lib/python3.6/dist-packages (from kaggle) (2020.6.20)\n",
            "Requirement already satisfied: tqdm in /usr/local/lib/python3.6/dist-packages (from kaggle) (4.41.1)\n",
            "Requirement already satisfied: chardet<4,>=3.0.2 in /usr/local/lib/python3.6/dist-packages (from requests->kaggle) (3.0.4)\n",
            "Requirement already satisfied: idna<3,>=2.5 in /usr/local/lib/python3.6/dist-packages (from requests->kaggle) (2.10)\n",
            "Requirement already satisfied: text-unidecode>=1.3 in /usr/local/lib/python3.6/dist-packages (from python-slugify->kaggle) (1.3)\n",
            "time: 2.43 s\n"
          ],
          "name": "stdout"
        }
      ]
    },
    {
      "cell_type": "code",
      "metadata": {
        "id": "uS-GHmIXho76",
        "outputId": "4f3d708d-9bd0-4497-aa75-fd9e94a7b117",
        "colab": {
          "base_uri": "https://localhost:8080/",
          "height": 34
        }
      },
      "source": [
        "#upload kaggle token file: kaggle.json\n",
        "#files.upload()\n",
        "kaggletoken={\"username\":\"huynhvanhien\",\"key\":\"82d7e5f0d5f149aedf8f040ba7c74c2a\"}\n",
        "with open('/root/.kaggle/kaggle.json', 'w')as kaggletokenfile:\n",
        "  json.dump(kaggletoken, kaggletokenfile)\n",
        "#move to /.kaggle\n",
        "\n",
        "#!cp kaggle.json /root/.kaggle/\n",
        "!chmod 600 /root/.kaggle/kaggle.json"
      ],
      "execution_count": 5,
      "outputs": [
        {
          "output_type": "stream",
          "text": [
            "time: 120 ms\n"
          ],
          "name": "stdout"
        }
      ]
    },
    {
      "cell_type": "code",
      "metadata": {
        "id": "0axU5ayKisc6",
        "outputId": "480cc9a6-a162-4049-d32c-fefb7cd606e8",
        "colab": {
          "base_uri": "https://localhost:8080/",
          "height": 86
        }
      },
      "source": [
        "!kaggle datasets download -d mohansacharya/graduate-admissions"
      ],
      "execution_count": 6,
      "outputs": [
        {
          "output_type": "stream",
          "text": [
            "Downloading graduate-admissions.zip to /content\n",
            "\r  0% 0.00/9.64k [00:00<?, ?B/s]\n",
            "\r100% 9.64k/9.64k [00:00<00:00, 16.5MB/s]\n",
            "time: 918 ms\n"
          ],
          "name": "stdout"
        }
      ]
    },
    {
      "cell_type": "code",
      "metadata": {
        "id": "sMnqltaJitrF",
        "outputId": "315bedbf-f618-4a32-ef71-997ceb6a7919",
        "colab": {
          "base_uri": "https://localhost:8080/",
          "height": 34
        }
      },
      "source": [
        "zipreference=zipfile.ZipFile('graduate-admissions.zip', 'r')\n",
        "zipreference.extractall('Data')\n",
        "zipreference.close()"
      ],
      "execution_count": 7,
      "outputs": [
        {
          "output_type": "stream",
          "text": [
            "time: 7.15 ms\n"
          ],
          "name": "stdout"
        }
      ]
    },
    {
      "cell_type": "code",
      "metadata": {
        "id": "CRjG8q44jdON",
        "outputId": "5b41a9b3-6b19-40b8-e187-76f24f04aa94",
        "colab": {
          "base_uri": "https://localhost:8080/",
          "height": 278
        }
      },
      "source": [
        "data=pd.read_csv(\"Data/Admission_Predict_Ver1.1.csv\")\n",
        "#remove unused columns\n",
        "if 'Serial No.' in data.columns:\n",
        "  data=data.drop(['Serial No.'], axis=1)\n",
        "#insert bias column\n",
        "biasc=pd.Series([int(1) for i in range(len(data))])\n",
        "#data.insert(0, \"biascol\", biasc, True)\n",
        "data['biascol']=biasc\n",
        "\n",
        "#filter one species\n",
        "#datab=pd.DataFrame(columns=['Species','Weight','Length1','Length2', 'Length3', 'Height', 'Width'])\n",
        "#for i in range(0, lendata):\n",
        "#  if data.Species[i]=='Bream':\n",
        "#    datab=datab.append(data.iloc[i], ignore_index=True)\n",
        "#data=datab\n",
        "#lendata=len(data)\n",
        "\n",
        "#encoder string to numeric\n",
        "#encoder=sklearn.preprocessing.LabelEncoder()\n",
        "#encoder.fit(data.Fuel_Type)\n",
        "#data.Fuel_Type=encoder.transform(data.Fuel_Type)\n",
        "#encoder.fit(data.Transmission)\n",
        "#data.Transmission=encoder.transform(data.Transmission)\n",
        "\n",
        "lendata=len(data)\n",
        "#change domain to [0,1]\n",
        "for i in range(0, len(data.columns)):\n",
        "  #print(data.iloc[:,i])\n",
        "  if max(data.iloc[:,i])-min(data.iloc[:,i])!=0:\n",
        "    data.iloc[:,i]=(data.iloc[:,i]-([min(data.iloc[:,i])]*lendata))/([max(data.iloc[:,i])-min(data.iloc[:,i])]*lendata)\n",
        "  else:\n",
        "    data.iloc[:,i]=1\n",
        "print(data)"
      ],
      "execution_count": 8,
      "outputs": [
        {
          "output_type": "stream",
          "text": [
            "     GRE Score  TOEFL Score  ...  Chance of Admit   biascol\n",
            "0         0.94     0.928571  ...          0.920635        1\n",
            "1         0.68     0.535714  ...          0.666667        1\n",
            "2         0.52     0.428571  ...          0.603175        1\n",
            "3         0.64     0.642857  ...          0.730159        1\n",
            "4         0.48     0.392857  ...          0.492063        1\n",
            "..         ...          ...  ...               ...      ...\n",
            "495       0.84     0.571429  ...          0.841270        1\n",
            "496       0.94     0.892857  ...          0.984127        1\n",
            "497       0.80     1.000000  ...          0.936508        1\n",
            "498       0.44     0.392857  ...          0.619048        1\n",
            "499       0.74     0.750000  ...          0.793651        1\n",
            "\n",
            "[500 rows x 9 columns]\n",
            "time: 86.7 ms\n"
          ],
          "name": "stdout"
        }
      ]
    },
    {
      "cell_type": "code",
      "metadata": {
        "id": "wXftBAnVk2qb",
        "outputId": "ca5a5897-ba4e-4866-a2aa-7251220c9e97",
        "colab": {
          "base_uri": "https://localhost:8080/",
          "height": 1000
        }
      },
      "source": [
        "#split to x, y train and test\n",
        "data.columns=data.columns.str.replace(' ', '_')\n",
        "x=data.drop('Chance_of_Admit_', axis=1)\n",
        "y=pd.DataFrame(data['Chance_of_Admit_'])\n",
        "trainOTestRate=3\n",
        "xtrain=x\n",
        "xtest=pd.DataFrame(columns=x.columns)\n",
        "ytrain=y\n",
        "ytest=pd.DataFrame(columns=['Chance_of_Admit_'])\n",
        "for i in range(0, len(data)):\n",
        "  if i%(trainOTestRate+1)==0:\n",
        "    xtest=xtest.append(x.iloc[i], ignore_index=True)\n",
        "    xtrain=xtrain.drop([i])\n",
        "    ytest=ytest.append(y.iloc[i], ignore_index=True)\n",
        "    ytrain=ytrain.drop([i])\n",
        "xtrain=xtrain.reset_index(drop=True)\n",
        "ytrain=ytrain.reset_index(drop=True)\n",
        "\n",
        "#convert y to vector\n",
        "ytrain=ytrain.iloc[:,0]\n",
        "ytest=ytest.iloc[:,0]\n",
        "lenTrain=len(xtrain)\n",
        "numberInputAttr=len(x.columns)\n",
        "vector0=np.array([0]*numberInputAttr)\n",
        "xtrain=np.array(xtrain)\n",
        "xtest=np.array(xtest)"
      ],
      "execution_count": 9,
      "outputs": [
        {
          "output_type": "stream",
          "text": [
            "train\n",
            "     GRE_Score  TOEFL_Score  University_Rating  ...      CGPA  Research  biascol\n",
            "0         0.68     0.535714               0.75  ...  0.663462       1.0        1\n",
            "1         0.52     0.428571               0.50  ...  0.384615       1.0        1\n",
            "2         0.64     0.642857               0.50  ...  0.599359       1.0        1\n",
            "3         0.80     0.821429               1.00  ...  0.814103       1.0        1\n",
            "4         0.62     0.607143               0.50  ...  0.448718       1.0        1\n",
            "..         ...          ...                ...  ...       ...       ...      ...\n",
            "370       0.22     0.250000               0.50  ...  0.528846       1.0        1\n",
            "371       0.84     0.571429               1.00  ...  0.711538       1.0        1\n",
            "372       0.80     1.000000               1.00  ...  0.884615       1.0        1\n",
            "373       0.44     0.392857               0.75  ...  0.522436       0.0        1\n",
            "374       0.74     0.750000               0.75  ...  0.717949       0.0        1\n",
            "\n",
            "[375 rows x 8 columns]\n",
            "     Chance_of_Admit_\n",
            "0            0.666667\n",
            "1            0.603175\n",
            "2            0.730159\n",
            "3            0.888889\n",
            "4            0.650794\n",
            "..                ...\n",
            "370          0.539683\n",
            "371          0.841270\n",
            "372          0.936508\n",
            "373          0.619048\n",
            "374          0.793651\n",
            "\n",
            "[375 rows x 1 columns]\n",
            "test\n",
            "     GRE_Score  TOEFL_Score  University_Rating  ...      CGPA  Research  biascol\n",
            "0         0.94     0.928571               0.75  ...  0.913462       1.0      1.0\n",
            "1         0.48     0.392857               0.25  ...  0.451923       0.0      1.0\n",
            "2         0.24     0.357143               0.00  ...  0.384615       0.0      1.0\n",
            "3         0.76     0.714286               0.75  ...  0.737179       1.0      1.0\n",
            "4         0.54     0.535714               0.50  ...  0.608974       0.0      1.0\n",
            "..         ...          ...                ...  ...       ...       ...      ...\n",
            "120       0.62     0.357143               0.50  ...  0.708333       1.0      1.0\n",
            "121       0.54     0.500000               0.50  ...  0.349359       1.0      1.0\n",
            "122       0.64     0.714286               0.50  ...  0.583333       1.0      1.0\n",
            "123       0.16     0.321429               0.75  ...  0.285256       1.0      1.0\n",
            "124       0.94     0.892857               1.00  ...  0.983974       1.0      1.0\n",
            "\n",
            "[125 rows x 8 columns]\n",
            "     Chance_of_Admit_\n",
            "0            0.920635\n",
            "1            0.492063\n",
            "2            0.253968\n",
            "3            0.698413\n",
            "4            0.507937\n",
            "..                ...\n",
            "120          0.730159\n",
            "121          0.619048\n",
            "122          0.666667\n",
            "123          0.301587\n",
            "124          0.984127\n",
            "\n",
            "[125 rows x 1 columns]\n",
            "time: 594 ms\n"
          ],
          "name": "stdout"
        }
      ]
    },
    {
      "cell_type": "code",
      "metadata": {
        "id": "ZAJKcTOMp3nb",
        "outputId": "2fbe8247-2f40-48b6-e61e-d6e028601055",
        "colab": {
          "base_uri": "https://localhost:8080/",
          "height": 34
        }
      },
      "source": [
        "#split train and test using ski-learn\n",
        "#from sklearn.cross_validation import train_test_split\n",
        "#x=data.drop('Chance_of_Admit_', axis=1)\n",
        "#y=pd.DataFrame(data['Chance_of_Admit_'])\n",
        "#xtrain, xtest, ytrain, ytest = train_test_split(x, y, test_size=0.3, random_state=0)"
      ],
      "execution_count": 10,
      "outputs": [
        {
          "output_type": "stream",
          "text": [
            "time: 1.24 ms\n"
          ],
          "name": "stdout"
        }
      ]
    },
    {
      "cell_type": "code",
      "metadata": {
        "id": "665O7Y2tqjo7",
        "outputId": "4c33318a-eb9c-4b4c-8121-ba45810cb23d",
        "colab": {
          "base_uri": "https://localhost:8080/",
          "height": 52
        }
      },
      "source": [
        "#locally weighted regression\n",
        "lenTrain=len(xtrain)\n",
        "alpha=0.01\n",
        "numEpochs=10000\n",
        "\n",
        "msa=0\n",
        "for i in range(len(xtest)):\n",
        "  theta=vector0*1\n",
        "  numLoops=0\n",
        "  while numLoops<numEpochs:\n",
        "    error=np.dot(xtrain[numLoops%lenTrain], np.transpose(theta))-ytrain[numLoops%lenTrain]\n",
        "    total_errors=np.dot(np.transpose(error), xtrain[numLoops%lenTrain])\n",
        "\n",
        "    #local_weight=math.exp(-(xtrain[numLoops%lenTrain]-xtest)**2/2)\n",
        "    xdistance=xtrain[numLoops%lenTrain]-xtest[i]\n",
        "    xdistance=-xdistance * xdistance / 2\n",
        "    local_weight=[math.exp(i) for i in xdistance]\n",
        "\n",
        "    theta=theta-local_weight*(alpha*total_errors)\n",
        "    numLoops+=1\n",
        "\n",
        "  #predict:\n",
        "  ypredict=np.dot(theta, xtest[i])\n",
        "  #print('predict', i, ':', ypredict, 'error:',  ypredict-ytest[i])\n",
        "  #print('ytest i:', ytest[i])\n",
        "  msa+=abs(ypredict-ytest[i])/len(xtest)\n",
        "\n",
        "#evaluate\n",
        "print('1-msa:',1-msa)"
      ],
      "execution_count": 11,
      "outputs": [
        {
          "output_type": "stream",
          "text": [
            "1-msa: 0.9342532260288536\n",
            "time: 32.1 s\n"
          ],
          "name": "stdout"
        }
      ]
    },
    {
      "cell_type": "code",
      "metadata": {
        "id": "YoVhfOQz-LFI",
        "outputId": "b840898b-8284-49bf-d1e9-be8bc680973b",
        "colab": {
          "base_uri": "https://localhost:8080/",
          "height": 69
        }
      },
      "source": [
        "#logistic regression\n",
        "#batch gradient descent\n",
        "#print(x)\n",
        "#print(y)\n",
        "theta=vector0*1\n",
        "\n",
        "#train\n",
        "alpha=0.005\n",
        "numEpochs=5000\n",
        "numLoops=0\n",
        "while(numLoops<numEpochs):\n",
        "  jtheta=np.dot(xtrain, np.transpose(theta))\n",
        "  htheta=[1/(1+math.exp(-i)) for i in jtheta]\n",
        "  #print(htheta)\n",
        "  errors=ytrain-htheta#np.dot(xtrain, np.transpose(theta))\n",
        "  sumerrors=np.dot(np.transpose(errors), xtrain)\n",
        "  theta=theta+alpha*sumerrors\n",
        "  numLoops+=1\n",
        "\n",
        "#result\n",
        "#print('theta: ',theta)\n",
        "\n",
        "#test\n",
        "test_jtheta=np.dot(xtest, np.transpose(theta))\n",
        "test_guess=[1/(1+math.exp(-i)) for i in test_jtheta]\n",
        "accuracy=sum([(test_guess[i]>=0.5)*(ytest[i]>=0.5)+(test_guess[i]<0.5)*(ytest[i]<0.5) for i in range(len(ytest))])/len(ytest)\n",
        "print('accuracy:', accuracy)\n",
        "mse=math.sqrt(sum([(test_guess[i]-ytest[i])**2 for i in range(len(ytest))])/len(ytest))\n",
        "print(\"mse: \", mse)\n",
        "\n",
        "#com_res=pd.DataFrame(test_guess, columns=['cal_result'])\n",
        "#com_res.insert(1, 'check', ytest, True)\n",
        "#com_res.insert(2, 'error', [1-((test_guess[i]>=0.5)*(ytest[i]>=0.5)+(test_guess[i]<0.5)*(ytest[i]<0.5)) for i in range(len(ytest))], True)\n"
      ],
      "execution_count": 45,
      "outputs": [
        {
          "output_type": "stream",
          "text": [
            "accuracy: 0.904\n",
            "mse:  0.09684372475486501\n",
            "time: 1.94 s\n"
          ],
          "name": "stdout"
        }
      ]
    },
    {
      "cell_type": "code",
      "metadata": {
        "id": "liswatJ5s1j3",
        "outputId": "7a2d7e04-effa-489f-daf1-842084e572df",
        "colab": {
          "base_uri": "https://localhost:8080/",
          "height": 69
        }
      },
      "source": [
        "#try to apply locally weighted regression to logistic regression\n",
        "lenTrain=len(xtrain)\n",
        "alpha=0.01\n",
        "numEpochs=100000\n",
        "accuracy=0\n",
        "msa=0\n",
        "for i in range(len(xtest)):\n",
        "  theta=vector0*1\n",
        "  numLoops=0\n",
        "  while numLoops<numEpochs:\n",
        "    jtheta=np.dot(xtrain[numLoops%lenTrain], np.transpose(theta))\n",
        "    htheta=1/(1+math.exp(-jtheta))\n",
        "    error=ytrain[numLoops%lenTrain]-htheta\n",
        "    param_errors=np.dot(np.transpose(error), xtrain[numLoops%lenTrain])\n",
        "\n",
        "    #local_weight=math.exp(-(xtrain[numLoops%lenTrain]-xtest)**2/2)\n",
        "    xdistance=xtrain[numLoops%lenTrain]-xtest[i]\n",
        "    xdistance=-xdistance * xdistance / 2\n",
        "    local_weight=[math.exp(i) for i in xdistance]\n",
        "\n",
        "    theta=theta+local_weight*(alpha*param_errors)\n",
        "    numLoops+=1\n",
        "\n",
        "  #predict:\n",
        "  test_jtheta=np.dot(xtest[i], np.transpose(theta))\n",
        "  ypredict=1/(1+math.exp(-test_jtheta))\n",
        "  #print('Predict', i, ':', ypredict, 'check:', ytest[i])\n",
        "  #print('predict', i, ':', ypredict, 'error:',  ypredict-ytest[i])\n",
        "  #print('ytest i:', ytest[i])\n",
        "  msa+=abs(ypredict-ytest[i])/len(xtest)\n",
        "  accuracy+=(ypredict>=0.5)*(ytest[i]>=0.5)+(ypredict<0.5)*(ytest[i]<0.5)\n",
        "accuracy=accuracy/len(ytest)\n",
        "#evaluate\n",
        "print(\"accuracy:\", accuracy)\n",
        "print('1-msa:',1-msa)"
      ],
      "execution_count": 49,
      "outputs": [
        {
          "output_type": "stream",
          "text": [
            "accuracy: 0.888\n",
            "1-msa: 0.9323723907669315\n",
            "time: 55min 40s\n"
          ],
          "name": "stdout"
        }
      ]
    },
    {
      "cell_type": "code",
      "metadata": {
        "id": "lGj7abc2CsaE",
        "outputId": "1d576601-7185-4854-f003-49904d4e7599",
        "colab": {
          "base_uri": "https://localhost:8080/",
          "height": 69
        }
      },
      "source": [
        "#try to apply locally weighted regression to logistic regression\n",
        "lenTrain=len(xtrain)\n",
        "alpha=0.01\n",
        "numEpochs=100000\n",
        "accuracy=0\n",
        "msa=0\n",
        "for i in range(len(xtest)):\n",
        "  theta=vector0*1\n",
        "  numLoops=0\n",
        "  while numLoops<numEpochs:\n",
        "    jtheta=np.dot(xtrain[numLoops%lenTrain], np.transpose(theta))\n",
        "    htheta=1/(1+math.exp(-jtheta))\n",
        "    error=ytrain[numLoops%lenTrain]-htheta\n",
        "    param_errors=np.dot(np.transpose(error), xtrain[numLoops%lenTrain])\n",
        "\n",
        "    #local_weight=math.exp(-(xtrain[numLoops%lenTrain]-xtest)**2/2)\n",
        "    xdistance=xtrain[numLoops%lenTrain]-xtest[i]\n",
        "    xdistance=-xdistance * xdistance / 2\n",
        "    local_weight=[math.exp(i) for i in xdistance]\n",
        "\n",
        "    theta=theta+local_weight*(alpha*param_errors)\n",
        "    numLoops+=1\n",
        "\n",
        "  #predict:\n",
        "  test_jtheta=np.dot(xtest[i], np.transpose(theta))\n",
        "  ypredict=1/(1+math.exp(-test_jtheta))\n",
        "  #print('Predict', i, ':', ypredict, 'check:', ytest[i])\n",
        "  #print('predict', i, ':', ypredict, 'error:',  ypredict-ytest[i])\n",
        "  #print('ytest i:', ytest[i])\n",
        "  msa+=abs(ypredict-ytest[i])/len(xtest)\n",
        "  accuracy+=(ypredict>=0.5)*(ytest[i]>=0.5)+(ypredict<0.5)*(ytest[i]<0.5)\n",
        "accuracy=accuracy/len(ytest)\n",
        "#evaluate\n",
        "print(\"accuracy:\", accuracy)\n",
        "print('1-msa:',1-msa)"
      ],
      "execution_count": 47,
      "outputs": [
        {
          "output_type": "stream",
          "text": [
            "accuracy: 0.904\n",
            "1-msa: 0.9326085778283871\n",
            "time: 5min 33s\n"
          ],
          "name": "stdout"
        }
      ]
    },
    {
      "cell_type": "code",
      "metadata": {
        "id": "ma-9oko9M1Tt"
      },
      "source": [
        "#newton's method for gradient descent\n"
      ],
      "execution_count": null,
      "outputs": []
    }
  ]
}