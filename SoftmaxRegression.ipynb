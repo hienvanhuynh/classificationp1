{
  "nbformat": 4,
  "nbformat_minor": 0,
  "metadata": {
    "colab": {
      "name": "SoftmaxRegression.ipynb",
      "provenance": [],
      "authorship_tag": "ABX9TyOEtRMio1eucl85xmTb0W7i",
      "include_colab_link": true
    },
    "kernelspec": {
      "name": "python3",
      "display_name": "Python 3"
    }
  },
  "cells": [
    {
      "cell_type": "markdown",
      "metadata": {
        "id": "view-in-github",
        "colab_type": "text"
      },
      "source": [
        "<a href=\"https://colab.research.google.com/github/hvhq/classificationp1/blob/master/SoftmaxRegression.ipynb\" target=\"_parent\"><img src=\"https://colab.research.google.com/assets/colab-badge.svg\" alt=\"Open In Colab\"/></a>"
      ]
    },
    {
      "cell_type": "code",
      "metadata": {
        "id": "QDP2U1YCE7_G",
        "outputId": "cae097d7-6414-4d07-cdc6-9975376706af",
        "colab": {
          "base_uri": "https://localhost:8080/"
        }
      },
      "source": [
        "from os import path\n",
        "\n",
        "if not path.exists('gdrive'):\n",
        "  from google.colab import drive\n",
        "  drive.mount('gdrive')\n",
        "import numpy as np\n",
        "import pandas as pd\n",
        "import json\n",
        "import zipfile\n",
        "import sklearn\n",
        "import math\n",
        "from google.colab import files\n",
        "import requests\n",
        "import matplotlib.pyplot as plt\n",
        "from sklearn import preprocessing"
      ],
      "execution_count": 1,
      "outputs": [
        {
          "output_type": "stream",
          "text": [
            "Mounted at gdrive\n"
          ],
          "name": "stdout"
        }
      ]
    },
    {
      "cell_type": "code",
      "metadata": {
        "id": "C-i4RhrHV4iE"
      },
      "source": [
        "import copy\n"
      ],
      "execution_count": 3,
      "outputs": []
    },
    {
      "cell_type": "code",
      "metadata": {
        "id": "2tvJd1iPFShy",
        "outputId": "aa4c63ea-8d40-44bf-aa3b-adbd3e93d1ea",
        "colab": {
          "base_uri": "https://localhost:8080/"
        }
      },
      "source": [
        "!pip install ipython-autotime\n",
        "%load_ext autotime\n",
        "!pip install kaggle\n",
        "!mkdir -p /root/.kaggle"
      ],
      "execution_count": 4,
      "outputs": [
        {
          "output_type": "stream",
          "text": [
            "Collecting ipython-autotime\n",
            "  Downloading https://files.pythonhosted.org/packages/3f/58/a4a65efcce5c81a67b6893ade862736de355a3a718af5533d30c991831ce/ipython_autotime-0.2.0-py2.py3-none-any.whl\n",
            "Requirement already satisfied: ipython in /usr/local/lib/python3.6/dist-packages (from ipython-autotime) (5.5.0)\n",
            "Requirement already satisfied: traitlets>=4.2 in /usr/local/lib/python3.6/dist-packages (from ipython->ipython-autotime) (4.3.3)\n",
            "Requirement already satisfied: setuptools>=18.5 in /usr/local/lib/python3.6/dist-packages (from ipython->ipython-autotime) (50.3.2)\n",
            "Requirement already satisfied: prompt-toolkit<2.0.0,>=1.0.4 in /usr/local/lib/python3.6/dist-packages (from ipython->ipython-autotime) (1.0.18)\n",
            "Requirement already satisfied: pexpect; sys_platform != \"win32\" in /usr/local/lib/python3.6/dist-packages (from ipython->ipython-autotime) (4.8.0)\n",
            "Requirement already satisfied: pickleshare in /usr/local/lib/python3.6/dist-packages (from ipython->ipython-autotime) (0.7.5)\n",
            "Requirement already satisfied: decorator in /usr/local/lib/python3.6/dist-packages (from ipython->ipython-autotime) (4.4.2)\n",
            "Requirement already satisfied: simplegeneric>0.8 in /usr/local/lib/python3.6/dist-packages (from ipython->ipython-autotime) (0.8.1)\n",
            "Requirement already satisfied: pygments in /usr/local/lib/python3.6/dist-packages (from ipython->ipython-autotime) (2.6.1)\n",
            "Requirement already satisfied: ipython-genutils in /usr/local/lib/python3.6/dist-packages (from traitlets>=4.2->ipython->ipython-autotime) (0.2.0)\n",
            "Requirement already satisfied: six in /usr/local/lib/python3.6/dist-packages (from traitlets>=4.2->ipython->ipython-autotime) (1.15.0)\n",
            "Requirement already satisfied: wcwidth in /usr/local/lib/python3.6/dist-packages (from prompt-toolkit<2.0.0,>=1.0.4->ipython->ipython-autotime) (0.2.5)\n",
            "Requirement already satisfied: ptyprocess>=0.5 in /usr/local/lib/python3.6/dist-packages (from pexpect; sys_platform != \"win32\"->ipython->ipython-autotime) (0.6.0)\n",
            "Installing collected packages: ipython-autotime\n",
            "Successfully installed ipython-autotime-0.2.0\n",
            "Requirement already satisfied: kaggle in /usr/local/lib/python3.6/dist-packages (1.5.9)\n",
            "Requirement already satisfied: requests in /usr/local/lib/python3.6/dist-packages (from kaggle) (2.23.0)\n",
            "Requirement already satisfied: python-slugify in /usr/local/lib/python3.6/dist-packages (from kaggle) (4.0.1)\n",
            "Requirement already satisfied: certifi in /usr/local/lib/python3.6/dist-packages (from kaggle) (2020.6.20)\n",
            "Requirement already satisfied: python-dateutil in /usr/local/lib/python3.6/dist-packages (from kaggle) (2.8.1)\n",
            "Requirement already satisfied: slugify in /usr/local/lib/python3.6/dist-packages (from kaggle) (0.0.1)\n",
            "Requirement already satisfied: tqdm in /usr/local/lib/python3.6/dist-packages (from kaggle) (4.41.1)\n",
            "Requirement already satisfied: six>=1.10 in /usr/local/lib/python3.6/dist-packages (from kaggle) (1.15.0)\n",
            "Requirement already satisfied: urllib3 in /usr/local/lib/python3.6/dist-packages (from kaggle) (1.24.3)\n",
            "Requirement already satisfied: idna<3,>=2.5 in /usr/local/lib/python3.6/dist-packages (from requests->kaggle) (2.10)\n",
            "Requirement already satisfied: chardet<4,>=3.0.2 in /usr/local/lib/python3.6/dist-packages (from requests->kaggle) (3.0.4)\n",
            "Requirement already satisfied: text-unidecode>=1.3 in /usr/local/lib/python3.6/dist-packages (from python-slugify->kaggle) (1.3)\n",
            "time: 2.64 s\n"
          ],
          "name": "stdout"
        }
      ]
    },
    {
      "cell_type": "code",
      "metadata": {
        "id": "vTyTUmhKFauQ",
        "outputId": "d1bd3f2d-8742-41a4-f913-80079a09be6c",
        "colab": {
          "base_uri": "https://localhost:8080/"
        }
      },
      "source": [
        "#upload kaggle token file: kaggle.json\n",
        "\n",
        "##upload from local computer\n",
        "#files.upload()\n",
        "\n",
        "##from kaggle\n",
        "#kaggletoken={\"username\":\"huynhvanhien\",\"key\":\"82d7e5f0d5f149aedf8f040ba7c74c2a\"}\n",
        "#with open('/root/.kaggle/kaggle.json', 'w')as kaggletokenfile:\n",
        "#  json.dump(kaggletoken, kaggletokenfile)\n",
        "\n",
        "##move to /.kaggle\n",
        "\n",
        "##!cp kaggle.json /root/.kaggle/\n",
        "#!chmod 600 /root/.kaggle/kaggle.json"
      ],
      "execution_count": 3,
      "outputs": [
        {
          "output_type": "stream",
          "text": [
            "time: 112 ms\n"
          ],
          "name": "stdout"
        }
      ]
    },
    {
      "cell_type": "code",
      "metadata": {
        "id": "F7d92e6YFlU0",
        "outputId": "4ffdd895-6fd7-4d7e-a8d2-4176f3093803",
        "colab": {
          "base_uri": "https://localhost:8080/",
          "height": 300
        }
      },
      "source": [
        "directory=\"https://archive.ics.uci.edu/ml/machine-learning-databases/iris/\"\n",
        "data=pd.read_csv(directory+\"/iris.data\", header=None)\n",
        "data.columns=['sepal_l', 'sepal_w', 'petal_l', 'petal_w', 'species']\n",
        "#print(data)\n",
        "#names=requests.get(directory+'iris.names', {}).text\n",
        "#print(names)\n",
        "\n",
        "\n",
        "visual_data=data.filter(['petal_l', 'petal_w', 'species'], axis=1)\n",
        "col_color=[]\n",
        "for i in range(len(visual_data)):\n",
        "  if visual_data['species'][i]=='Iris-setosa':\n",
        "    col_color.append('green')\n",
        "  elif visual_data['species'][i]=='Iris-versicolor':\n",
        "    col_color.append('red')\n",
        "  else:\n",
        "    col_color.append('blue')\n",
        "plt.scatter(visual_data['petal_l'], visual_data['petal_w'], \n",
        "            c=col_color)\n",
        "\n",
        "drop_column='species'\n",
        "output_columns=[]\n",
        "for i in data[drop_column]:\n",
        "  if i not in output_columns:\n",
        "    output_columns.append(i)\n",
        "print(output_columns)\n"
      ],
      "execution_count": 58,
      "outputs": [
        {
          "output_type": "stream",
          "text": [
            "['Iris-setosa', 'Iris-versicolor', 'Iris-virginica']\n"
          ],
          "name": "stdout"
        },
        {
          "output_type": "display_data",
          "data": {
            "image/png": "[encoded data removed]",
            "text/plain": [
              "<Figure size 432x288 with 1 Axes>"
            ]
          },
          "metadata": {
            "tags": [],
            "needs_background": "light"
          }
        },
        {
          "output_type": "stream",
          "text": [
            "time: 463 ms\n"
          ],
          "name": "stdout"
        }
      ]
    },
    {
      "cell_type": "code",
      "metadata": {
        "id": "EXDoUwxxPd6-"
      },
      "source": [
        ""
      ],
      "execution_count": null,
      "outputs": []
    },
    {
      "cell_type": "code",
      "metadata": {
        "id": "4lfvpenkh5Ht",
        "outputId": "d54f66ca-efb0-4f87-954e-67cb07120f8c",
        "colab": {
          "base_uri": "https://localhost:8080/"
        }
      },
      "source": [
        "#convert data\n",
        "#encoder string to numeric\n",
        "encoder=sklearn.preprocessing.LabelEncoder()\n",
        "encoder.fit(data.species)\n",
        "data.species=encoder.transform(data.species)\n",
        "#data.species=encoder.inverse_transform(data.species)\n",
        "data['biascol']=pd.Series([int(1) for i in range(len(data))])\n",
        "lendata=len(data)\n",
        "\n",
        "#create vector0, base vector, for multiple time of copy\n",
        "num_class=len(output_columns)\n",
        "vector_result_form=[0 for i in range(num_class)]\n",
        "#drop result column into a list of vectors\n",
        "x=data.drop(drop_column, axis=1)\n",
        "y=pd.DataFrame(columns=output_columns)\n",
        "for i in range(len(data)):\n",
        "  vtmp=vector_result_form*1\n",
        "  vtmp[data[drop_column][i]]=1\n",
        "  y=y.append(pd.DataFrame([vtmp], columns=output_columns), ignore_index=True)\n",
        "#print(x)\n",
        "#print(y)\n",
        "#change domain to [0,1]\n",
        "maxc2=max(x.iloc[:,2])\n",
        "minc2=min(x.iloc[:,2])\n",
        "maxc3=max(x.iloc[:,3])\n",
        "minc3=min(x.iloc[:,3])\n",
        "for i in range(0, len(x.columns)):\n",
        "  if max(x.iloc[:,i])-min(x.iloc[:,i])!=0:\n",
        "    x.iloc[:,i]=(x.iloc[:,i]-([min(x.iloc[:,i])]*lendata))/([max(x.iloc[:,i])-min(x.iloc[:,i])]*lendata)\n",
        "  else:\n",
        "    x.iloc[:,i]=1\n",
        "#split train and test\n",
        "trainOTestRate=3\n",
        "xtrain=pd.DataFrame(columns=x.columns)\n",
        "xtest=pd.DataFrame(columns=x.columns)\n",
        "ytrain=pd.DataFrame(columns=output_columns)\n",
        "ytest=pd.DataFrame(columns=output_columns)\n",
        "for i in range(0, len(data)):\n",
        "  if i%(trainOTestRate+1)==0:\n",
        "    xtest=xtest.append(x.iloc[i], ignore_index=True)\n",
        "    ytest=ytest.append(y.iloc[i], ignore_index=True)\n",
        "  else:\n",
        "    xtrain=xtrain.append(x.iloc[i], ignore_index=True)\n",
        "    ytrain=ytrain.append(y.iloc[i], ignore_index=True)\n",
        "\n",
        "#convert y to vector\n",
        "#ytrain=ytrain.iloc[:,0]\n",
        "#ytest=ytest.iloc[:,0]\n",
        "lentrain=len(xtrain)\n",
        "numberInputAttr=len(x.columns)\n",
        "vector0=np.array([0]*numberInputAttr)\n",
        "#xtrain=np.array(xtrain)\n",
        "#xtest=np.array(xtest)\n",
        "#print(\"xtrain:\\n\", xtrain)\n",
        "#print(\"ytrain:\\n\", ytrain)\n",
        "print(\"xtest:\\n\", xtest)\n",
        "print(\"ytest:\\n\", ytest)\n"
      ],
      "execution_count": 108,
      "outputs": [
        {
          "output_type": "stream",
          "text": [
            "xtest:\n",
            "      sepal_l   sepal_w   petal_l   petal_w  biascol\n",
            "0   0.222222  0.625000  0.067797  0.041667      1.0\n",
            "1   0.194444  0.666667  0.067797  0.041667      1.0\n",
            "2   0.027778  0.375000  0.067797  0.041667      1.0\n",
            "3   0.138889  0.416667  0.067797  0.000000      1.0\n",
            "4   0.305556  0.791667  0.050847  0.125000      1.0\n",
            "5   0.305556  0.583333  0.118644  0.041667      1.0\n",
            "6   0.138889  0.583333  0.152542  0.041667      1.0\n",
            "7   0.250000  0.583333  0.067797  0.041667      1.0\n",
            "8   0.250000  0.875000  0.084746  0.000000      1.0\n",
            "9   0.333333  0.625000  0.050847  0.041667      1.0\n",
            "10  0.194444  0.625000  0.050847  0.083333      1.0\n",
            "11  0.222222  0.750000  0.152542  0.125000      1.0\n",
            "12  0.277778  0.708333  0.084746  0.041667      1.0\n",
            "13  0.722222  0.458333  0.661017  0.583333      1.0\n",
            "14  0.555556  0.541667  0.627119  0.625000      1.0\n",
            "15  0.194444  0.000000  0.423729  0.375000      1.0\n",
            "16  0.361111  0.375000  0.440678  0.500000      1.0\n",
            "17  0.527778  0.083333  0.593220  0.583333      1.0\n",
            "18  0.555556  0.208333  0.661017  0.583333      1.0\n",
            "19  0.694444  0.333333  0.644068  0.541667      1.0\n",
            "20  0.333333  0.166667  0.474576  0.416667      1.0\n",
            "21  0.305556  0.416667  0.593220  0.583333      1.0\n",
            "22  0.361111  0.416667  0.525424  0.500000      1.0\n",
            "23  0.416667  0.250000  0.508475  0.458333      1.0\n",
            "24  0.388889  0.375000  0.542373  0.500000      1.0\n",
            "25  0.555556  0.541667  0.847458  1.000000      1.0\n",
            "26  0.611111  0.416667  0.813559  0.875000      1.0\n",
            "27  0.666667  0.208333  0.813559  0.708333      1.0\n",
            "28  0.694444  0.416667  0.762712  0.833333      1.0\n",
            "29  0.611111  0.416667  0.762712  0.708333      1.0\n",
            "30  0.722222  0.500000  0.796610  0.916667      1.0\n",
            "31  0.666667  0.541667  0.796610  0.833333      1.0\n",
            "32  0.583333  0.333333  0.779661  0.833333      1.0\n",
            "33  0.583333  0.333333  0.779661  0.875000      1.0\n",
            "34  0.555556  0.583333  0.779661  0.958333      1.0\n",
            "35  0.666667  0.458333  0.779661  0.958333      1.0\n",
            "36  0.666667  0.541667  0.796610  1.000000      1.0\n",
            "37  0.527778  0.583333  0.745763  0.916667      1.0\n",
            "ytest:\n",
            "    Iris-setosa Iris-versicolor Iris-virginica\n",
            "0            1               0              0\n",
            "1            1               0              0\n",
            "2            1               0              0\n",
            "3            1               0              0\n",
            "4            1               0              0\n",
            "5            1               0              0\n",
            "6            1               0              0\n",
            "7            1               0              0\n",
            "8            1               0              0\n",
            "9            1               0              0\n",
            "10           1               0              0\n",
            "11           1               0              0\n",
            "12           1               0              0\n",
            "13           0               1              0\n",
            "14           0               1              0\n",
            "15           0               1              0\n",
            "16           0               1              0\n",
            "17           0               1              0\n",
            "18           0               1              0\n",
            "19           0               1              0\n",
            "20           0               1              0\n",
            "21           0               1              0\n",
            "22           0               1              0\n",
            "23           0               1              0\n",
            "24           0               1              0\n",
            "25           0               0              1\n",
            "26           0               0              1\n",
            "27           0               0              1\n",
            "28           0               0              1\n",
            "29           0               0              1\n",
            "30           0               0              1\n",
            "31           0               0              1\n",
            "32           0               0              1\n",
            "33           0               0              1\n",
            "34           0               0              1\n",
            "35           0               0              1\n",
            "36           0               0              1\n",
            "37           0               0              1\n",
            "time: 925 ms\n"
          ],
          "name": "stdout"
        }
      ]
    },
    {
      "cell_type": "code",
      "metadata": {
        "id": "srEjjNTDfwos"
      },
      "source": [
        "#stochatic gradient descent\n",
        "#n-params-dimensions\n",
        "n=len(x.columns) # one more for bias\n",
        "vector0=[0 for i in range(n)]\n",
        "\n",
        "wt=[]\n",
        "for i in range(num_class):\n",
        "  wt.append(vector0*1)\n",
        "convergent_limit=0.005\n",
        "maxloop=1000\n",
        "iloop=0\n",
        "#loop till convergent\n",
        "while iloop < maxloop:\n",
        "  wtmp=copy.deepcopy(wt)\n",
        "  for c in range(num_class):\n",
        "    deltaJ=vector0*1\n",
        "    #update theta\n",
        "    for i in range(lentrain):\n",
        "      tmp=[math.exp(np.dot(wt[cs],xtrain.iloc[i])) for cs in range(num_class)]\n",
        "      tmp=[it/sum(tmp) for it in tmp]\n",
        "      deltaJ=np.add(deltaJ, ((ytrain.iloc[i][c]==1)-tmp[c])*xtrain.iloc[i])\n",
        "    deltaJ=[it/lentrain for it in deltaJ]\n",
        "    wt[c]=np.add(wt[c], deltaJ)\n",
        "  #check if convergent\n",
        "  is_convergent=abs(np.subtract(wt, wtmp)) < convergent_limit\n",
        "  if all([all(is_convergent[i]) for i in range(num_class)]):\n",
        "    break\n",
        "  iloop+=1\n",
        "print(wt)\n",
        "print(iloop)"
      ],
      "execution_count": null,
      "outputs": []
    },
    {
      "cell_type": "code",
      "metadata": {
        "id": "52amJ9U9UZ8Z",
        "outputId": "9ce571de-4b31-4261-be46-40f4040199d3",
        "colab": {
          "base_uri": "https://localhost:8080/"
        }
      },
      "source": [
        "#test\n",
        "num_errors=0\n",
        "ycal=pd.DataFrame(columns=output_columns)\n",
        "for i in range(len(xtest)):\n",
        "  tmp=[math.exp(np.dot(wt[cs],xtest.iloc[i])) for cs in range(num_class)]\n",
        "  print(tmp)\n",
        "  tmp=[it/sum(tmp) for it in tmp]\n",
        "  vtmp=vector_result_form*1\n",
        "  vtmp[tmp.index(max(tmp))]=1\n",
        "  ycal=ycal.append(pd.DataFrame([vtmp], columns=output_columns), ignore_index=True)\n",
        "  #print(ycal.iloc[i])\n",
        "  #print(ycal.iloc[i])\n",
        "  if(any([ycal.iloc[i][it]!=ytest.iloc[i][it] for it in range(num_class)])):\n",
        "    num_errors+=1\n",
        "print('accuracy: ',1-num_errors/len(xtest))\n"
      ],
      "execution_count": 85,
      "outputs": [
        {
          "output_type": "stream",
          "text": [
            "[469.20169625100056, 8.468470831745524, 0.0003802556026819864]\n",
            "[627.4824529831144, 7.713904043000186, 0.0003132675085059188]\n",
            "[222.8082403965358, 9.111847432687977, 0.0007059365559767507]\n",
            "[261.5171241332829, 10.894396208348207, 0.0005095144820188304]\n",
            "[586.3421647756019, 6.356918866305341, 0.000420051879446635]\n",
            "[218.87914819448062, 10.20162688457741, 0.0006801190521257961]\n",
            "[280.82095904717545, 8.247394742401225, 0.0006479421722950713]\n",
            "[350.8468335938313, 9.296848629223096, 0.0004615682106984574]\n",
            "[1816.8491513730582, 6.884506014335097, 0.00012531829287120534]\n",
            "[383.584073785735, 9.777809338490005, 0.0004062325358268068]\n",
            "[437.0525882177861, 7.449276153229295, 0.0004636855632961023]\n",
            "[315.6271170130741, 6.228204323160333, 0.0007920697327980601]\n",
            "[554.9464361813791, 8.210863492372347, 0.0003376399958806938]\n",
            "[0.04507924057973168, 8.511060419677989, 4.35864215454054]\n",
            "[0.10515763912828739, 5.5188183814862874, 2.8751106542492897]\n",
            "[0.29030719779086384, 10.85637103081175, 0.45947440655459115]\n",
            "[0.5265204858494424, 6.411165314059834, 0.46388191880370255]\n",
            "[0.017225371855075448, 10.572534079040674, 8.511349512682926]\n",
            "[0.019822655087453876, 9.507040816054946, 8.43754302642272]\n",
            "[0.036736871346952485, 10.489550643155798, 4.234583204036475]\n",
            "[0.26239073985089745, 9.792435188590208, 0.5881864267819997]\n",
            "[0.17624008890238524, 5.0110990013652525, 1.805993886830191]\n",
            "[0.3837399649081501, 6.247243601268394, 0.6613345485207571]\n",
            "[0.20051538996163418, 9.109885076394892, 0.8479893667819899]\n",
            "[0.25807637922120397, 6.899595055665285, 0.8883443399259717]\n",
            "[0.0026971256691075717, 2.7814209863921233, 232.03616334638565]\n",
            "[0.0032242770908015553, 4.517194906891115, 116.65258899213366]\n",
            "[0.002620703867582901, 9.03747387305799, 69.16419488215924]\n",
            "[0.004535993250846622, 5.403344333465259, 69.35798392501268]\n",
            "[0.012235140783834147, 6.228174433641129, 21.958598079393006]\n",
            "[0.0031360675564141177, 4.284874151943121, 129.40317914245523]\n",
            "[0.0075254422450015835, 4.454506847433702, 51.6374569118354]\n",
            "[0.0036179308848781387, 5.233197441719139, 87.9768574430907]\n",
            "[0.002806733540425787, 4.807738501359853, 123.79154777576476]\n",
            "[0.006579651380355419, 2.795148572515196, 94.46004652871146]\n",
            "[0.002547360467691368, 3.839347573307339, 176.15853769344452]\n",
            "[0.002725810754884757, 3.173178481976276, 202.4207540514162]\n",
            "[0.011322489635957032, 2.895757188677757, 52.57159478431912]\n",
            "accuracy:  1.0\n",
            "time: 122 ms\n"
          ],
          "name": "stdout"
        }
      ]
    },
    {
      "cell_type": "code",
      "metadata": {
        "id": "T0_qQEFkdWng",
        "outputId": "bda56aba-8d27-4278-a67d-4ef433c54123",
        "colab": {
          "base_uri": "https://localhost:8080/",
          "height": 300
        }
      },
      "source": [
        "#visualize_weight\n",
        "#visual_data=data.filter(['petal_l', 'petal_w', 'species'], axis=1)\n",
        "#col_color=[]\n",
        "#for i in range(len(visual_data)):\n",
        "#  if visual_data['species'][i]=='Iris-setosa':\n",
        "#    col_color.append('green')\n",
        "#  elif visual_data['species'][i]=='Iris-versicolor':\n",
        "#    col_color.append('red')\n",
        "#  else:\n",
        "#    col_color.append('blue')\n",
        "plt.scatter(visual_data['petal_l'], visual_data['petal_w'], c=col_color)\n",
        "#print(xtest.iloc[0][2].dtype)\n",
        "line1x=[xtest.iloc[i][2]*(maxc2-minc2)+minc2 for i in range(len(xtest))]\n",
        "line1y=[xtest.iloc[i][3]*(maxc3-minc3)+minc3 for i in range(len(xtest))]\n",
        "#print(line1x)\n",
        "#print(line1y)\n",
        "plt.plot(line1x, line1y, label='something', color='green')\n"
      ],
      "execution_count": 111,
      "outputs": [
        {
          "output_type": "execute_result",
          "data": {
            "text/plain": [
              "[<matplotlib.lines.Line2D at 0x7fba6e238dd8>]"
            ]
          },
          "metadata": {
            "tags": []
          },
          "execution_count": 111
        },
        {
          "output_type": "display_data",
          "data": {
            "image/png": "[encoded data removed]",
            "text/plain": [
              "<Figure size 432x288 with 1 Axes>"
            ]
          },
          "metadata": {
            "tags": [],
            "needs_background": "light"
          }
        },
        {
          "output_type": "stream",
          "text": [
            "time: 193 ms\n"
          ],
          "name": "stdout"
        }
      ]
    },
    {
      "cell_type": "code",
      "metadata": {
        "id": "wtUWTRMMXUHp"
      },
      "source": [
        ""
      ],
      "execution_count": null,
      "outputs": []
    }
  ]
}